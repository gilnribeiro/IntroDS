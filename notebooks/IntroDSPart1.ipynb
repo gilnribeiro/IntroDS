{
 "cells": [
  {
   "cell_type": "markdown",
   "metadata": {
    "hideCode": false,
    "hidePrompt": false
   },
   "source": [
    "# A crash course in Python for Data Science\n",
    "\n",
    "<br/>\n",
    "<br/>\n",
    "\n",
    "\n",
    "# ***Datasets***\n",
    "\n",
    "<br/>\n",
    "\n",
    "1. [Setup](#0)<br>\n",
    "2. [About Pandas](#I)<br>\n",
    "3. [Creating & Reading](#II)<br>\n",
    "    3.1 [Creating data](#II.I)<br>\n",
    "    3.2 [Reading data](#II.II)<br>\n",
    "4. [Indexing, Selecting and Assigning](#III)<br>\n",
    "    4.1 [Naitive Python accessors](#III.I)<br>\n",
    "    4.2 [Indexing using Pandas syntaxis](#III.II)<br>\n",
    "    4.3 [Manipulating the index](#III.III)<br>\n",
    "    4.4 [Conditional Selection](#III.VI)<br>\n",
    "    4.5 [Assigning data](#III.V)<br>\n",
    "5. [Summary Functions and Maps](#VI)<br>\n",
    "    5.1 [Summary functions](#VI.I)<br>\n",
    "    5.2 [Maps](#VI.II)<br>\n",
    "6. [Grouping and Sorting](#V)<br>\n",
    "    6.1 [Grouping](#V.I)<br>\n",
    "    6.2 [Sorting](#V.II)<br>\n",
    "7. [Data Types and Missing Values](#IV)<br>\n",
    "    7.1 [Data Types](#IV.I)<br>\n",
    "    7.2 [Missing data](#IV.II)<br>\n",
    "8. [Renaming and Combining](#IIV)<br>\n",
    "    8.1 [Renaming](#IIV.I)<br>\n",
    "    8.2 [Combining](#IIV.II)<br>\n",
    "<br/>\n",
    "<br/>\n",
    "<br/>\n",
    "    \n",
    "\n",
    "\n",
    "\n"
   ]
  },
  {
   "cell_type": "markdown",
   "metadata": {
    "hideCode": false,
    "hidePrompt": false
   },
   "source": [
    "## 1. [Setup](#0)\n",
    "<a id=\"0\"></a>\n",
    "<br/>\n",
    "\n",
    "To see where is the *current working directory* for this specific `jupyter notebook` we leverage the method `getcwd()` from package `os`"
   ]
  },
  {
   "cell_type": "code",
<<<<<<< Updated upstream
   "execution_count": 1,
=======
   "execution_count": 4,
>>>>>>> Stashed changes
   "metadata": {
    "hideCode": false,
    "hidePrompt": false
   },
   "outputs": [],
   "source": [
<<<<<<< Updated upstream
    "#Type your code here\n",
    "import os\n",
    "while not os.getcwd().endswith(\"IntroDS\"):\n",
    "    os.chdir(\"..\")"
=======
    "# Type your code here\n",
    "\n",
    "# This allows us to find the directory\n",
    "import os # this is a module that has several methods"
>>>>>>> Stashed changes
   ]
  },
  {
   "cell_type": "code",
<<<<<<< Updated upstream
   "execution_count": 2,
   "metadata": {},
   "outputs": [
    {
     "data": {
      "text/plain": [
       "'C:\\\\Users\\\\gilnr\\\\Documents\\\\GitHub\\\\IntroDS'"
      ]
     },
     "execution_count": 2,
     "metadata": {},
     "output_type": "execute_result"
    }
   ],
   "source": [
    "os.getcwd()"
   ]
  },
  {
   "cell_type": "code",
   "execution_count": 3,
   "metadata": {},
   "outputs": [],
   "source": [
    "# os.chdir(\"C:\\\\Users\\\\eduardo.garcia\\\\Documents\\\\Github\\\\IntroDS\")"
=======
   "execution_count": 6,
   "metadata": {},
   "outputs": [],
   "source": [
    "# Standard way to start a repository\n",
    "# We start at the top directory in this case \"IntroDS\"\n",
    "# This is what we'll do\n",
    "\n",
    "import os\n",
    "while not os.getcwd().endswith(\"IntroDS\"): # The folder we are aiming to\n",
    "    os.chdir(\"..\") # os change directory"
>>>>>>> Stashed changes
   ]
  },
  {
   "cell_type": "code",
<<<<<<< Updated upstream
   "execution_count": 4,
=======
   "execution_count": 7,
>>>>>>> Stashed changes
   "metadata": {},
   "outputs": [
    {
     "data": {
      "text/plain": [
       "'C:\\\\Users\\\\gilnr\\\\Documents\\\\GitHub\\\\IntroDS'"
      ]
     },
<<<<<<< Updated upstream
     "execution_count": 4,
=======
     "execution_count": 7,
>>>>>>> Stashed changes
     "metadata": {},
     "output_type": "execute_result"
    }
   ],
   "source": [
<<<<<<< Updated upstream
    "os.getcwd()"
=======
    "os.getcwd() # The location in your computer where the python interpreter is"
>>>>>>> Stashed changes
   ]
  },
  {
   "cell_type": "markdown",
   "metadata": {
    "hideCode": false,
    "hidePrompt": false
   },
   "source": [
    "*Current directory* of a specific `jupyter notebook` is usually originally set to where the file is stored. Remember that during the first part of this course we learn that it is possible to change our *current working directory* by leveraging the method `chdir()` from the package `os`. \n",
    "\n",
    "The `while` loop above will *check* if the ending string returned by `os.getcwd()` is equal to \"IntroDS\", while this condition it will keep going one folder backwards.\n",
    "\n",
    "**IntroDS** is the name of the folder we have created for this workshop. The structure of it is as follows:\n",
    "\n",
    "+ data\n",
    "    + Data_Extract_From_World_Development_Indicators-OCDE-BRCH-EU.xlsx\n",
    "    + WorldBankDataReshaped.csv\n",
    "+ html\n",
    "    + IntroDSPart1.html\n",
    "+ images\n",
    "    + DSKC_logo.png\n",
    "+ metadata\n",
    "    + Expense.xlsx\n",
    "    + Final Consumption Expenditure.xlsx\n",
    "    + Militar Expenditure.xlsx\n",
    "+ notebooks\n",
    "    + IntroDSPart1.ipynb\n",
    "+ README.md\n",
    "    \n",
    "   \n",
    "Whenever new material is released I will be sharing it via the following github [repo](https://github.com/EduardoHidalgoGarcia/IntroDS).\n"
   ]
  },
  {
   "cell_type": "markdown",
   "metadata": {
    "hideCode": false,
    "hidePrompt": false
   },
   "source": [
    "## 2. [About pandas](#I)\n",
    "<a id=\"I\"></a>\n",
    "<br/>\n",
    "\n",
    "The most popular `Python` library for data analysis is `pandas`. In this part we will learn how to create our own data, along with how to work with data that already exists (i.e. how to import it to `Python`). To use `pandas` you will typically start with the following line of code.\n",
    "\n",
    "\n",
    "\n"
   ]
  },
  {
   "cell_type": "code",
<<<<<<< Updated upstream
   "execution_count": 5,
=======
   "execution_count": 1,
>>>>>>> Stashed changes
   "metadata": {
    "hideCode": false,
    "hidePrompt": false
   },
   "outputs": [],
   "source": [
    "#type your code here\n",
    "import pandas as pd"
   ]
  },
  {
   "cell_type": "markdown",
   "metadata": {
    "hideCode": false,
    "hidePrompt": false
   },
   "source": [
    "(note that Anaconda environments known as conda already includes the `pandas`*package*)."
   ]
  },
  {
   "cell_type": "markdown",
   "metadata": {
    "hideCode": false,
    "hidePrompt": false
   },
   "source": [
    "## 3. [Creating & Reading data](#II)\n",
    "<a id=\"II\"></a>\n",
    "<br/>"
   ]
  },
  {
   "cell_type": "markdown",
   "metadata": {
    "hideCode": false,
    "hidePrompt": false
   },
   "source": [
    "### 3.1 [Creating data](#II.I)\n",
    "<a id=\"II.I\"></a>\n",
    "<br/>\n",
    "\n",
    "There are two core objects in pandas: the `DataFrame` and the `Series`.\n",
    "<br/>\n",
    "\n",
    "#### 3.1.1 `DataFrame`\n",
    "\n",
    "<hr>\n",
    "\n",
    "A `DataFrame`is a table that contains and array of individual entries, each of which has a certain value. Each entry corresponds to a row (or record) and a column.\n",
    "\n",
    "As an example let's generate our first `DataFrame`. For this we will need to declare a `dictionary` and then feed it to the `pandas` method `DataFrame()`. \n",
    "\n",
    "`Dictionaries` are one of the basic `Python` data structures. If you are familiar with other programming languages you can think of them as mappings or collection of objects that are stored by a *key*, unlike other structures such as sequences or lists that store objects by their relative position."
   ]
  },
  {
   "cell_type": "code",
<<<<<<< Updated upstream
   "execution_count": 6,
   "metadata": {},
=======
   "execution_count": 8,
   "metadata": {
    "hideCode": false,
    "hidePrompt": false
   },
>>>>>>> Stashed changes
   "outputs": [
    {
     "data": {
      "text/plain": [
       "list"
      ]
     },
<<<<<<< Updated upstream
     "execution_count": 6,
=======
     "execution_count": 8,
>>>>>>> Stashed changes
     "metadata": {},
     "output_type": "execute_result"
    }
   ],
   "source": [
<<<<<<< Updated upstream
    "#Python basic built in objects\n",
    "lista = [1,2,5,6,3,0]\n",
=======
    "#Python Basic built in objects\n",
    "lista = [1,2,5,6,0]\n",
>>>>>>> Stashed changes
    "type(lista)"
   ]
  },
  {
   "cell_type": "code",
<<<<<<< Updated upstream
   "execution_count": 7,
=======
   "execution_count": 12,
>>>>>>> Stashed changes
   "metadata": {},
   "outputs": [
    {
     "data": {
      "text/plain": [
<<<<<<< Updated upstream
       "dict"
      ]
     },
     "execution_count": 7,
=======
       "['value 1', 'value 2']"
      ]
     },
     "execution_count": 12,
>>>>>>> Stashed changes
     "metadata": {},
     "output_type": "execute_result"
    }
   ],
<<<<<<< Updated upstream
   "source": [
    "diccionario = {'Key 1':['Value 1', 'Value 2'],\n",
    "              'Key 2':['Value 3','Value 4']}\n",
    "type(diccionario)"
   ]
  },
  {
   "cell_type": "code",
   "execution_count": 8,
   "metadata": {},
   "outputs": [
    {
     "name": "stdout",
     "output_type": "stream",
     "text": [
      "{'Key 1': ['Value 1', 'Value 2'], 'Key 2': ['Value 3', 'Value 4']}\n"
     ]
    }
   ],
   "source": [
    "print(diccionario)"
=======
   "source": [
    "dicionario = {'Key 1':['value 1','value 2'], 'Key 2': ['value 3','value 4']}\n",
    "dicionario['Key 1']"
>>>>>>> Stashed changes
   ]
  },
  {
   "cell_type": "code",
<<<<<<< Updated upstream
   "execution_count": 9,
   "metadata": {
    "hideCode": false,
    "hidePrompt": false
   },
=======
   "execution_count": 15,
   "metadata": {},
>>>>>>> Stashed changes
   "outputs": [
    {
     "data": {
      "text/html": [
       "<div>\n",
       "<style scoped>\n",
       "    .dataframe tbody tr th:only-of-type {\n",
       "        vertical-align: middle;\n",
       "    }\n",
       "\n",
       "    .dataframe tbody tr th {\n",
       "        vertical-align: top;\n",
       "    }\n",
       "\n",
       "    .dataframe thead th {\n",
       "        text-align: right;\n",
       "    }\n",
       "</style>\n",
       "<table border=\"1\" class=\"dataframe\">\n",
       "  <thead>\n",
       "    <tr style=\"text-align: right;\">\n",
       "      <th></th>\n",
       "      <th>Key 1</th>\n",
       "      <th>Key 2</th>\n",
       "    </tr>\n",
       "  </thead>\n",
       "  <tbody>\n",
       "    <tr>\n",
       "      <th>0</th>\n",
<<<<<<< Updated upstream
       "      <td>Value 1</td>\n",
       "      <td>Value 3</td>\n",
       "    </tr>\n",
       "    <tr>\n",
       "      <th>1</th>\n",
       "      <td>Value 2</td>\n",
       "      <td>Value 4</td>\n",
=======
       "      <td>value 1</td>\n",
       "      <td>value 3</td>\n",
       "    </tr>\n",
       "    <tr>\n",
       "      <th>1</th>\n",
       "      <td>value 2</td>\n",
       "      <td>value 4</td>\n",
>>>>>>> Stashed changes
       "    </tr>\n",
       "  </tbody>\n",
       "</table>\n",
       "</div>"
      ],
      "text/plain": [
       "     Key 1    Key 2\n",
<<<<<<< Updated upstream
       "0  Value 1  Value 3\n",
       "1  Value 2  Value 4"
      ]
     },
     "execution_count": 9,
     "metadata": {},
     "output_type": "execute_result"
    }
   ],
   "source": [
    "#type your code here\n",
    "my_first_df = pd.DataFrame(diccionario)\n",
    "my_first_df"
   ]
  },
  {
   "cell_type": "code",
   "execution_count": 10,
   "metadata": {},
   "outputs": [
    {
     "data": {
      "text/plain": [
       "Key 1    object\n",
       "Key 2    object\n",
       "dtype: object"
      ]
     },
     "execution_count": 10,
     "metadata": {},
     "output_type": "execute_result"
    }
   ],
   "source": [
    "my_first_df.dtypes"
   ]
  },
  {
   "cell_type": "code",
   "execution_count": 11,
   "metadata": {
    "hideCode": false,
    "hidePrompt": false
   },
   "outputs": [
    {
     "data": {
      "text/plain": [
       "pandas.core.frame.DataFrame"
      ]
     },
     "execution_count": 11,
=======
       "0  value 1  value 3\n",
       "1  value 2  value 4"
      ]
     },
     "execution_count": 15,
>>>>>>> Stashed changes
     "metadata": {},
     "output_type": "execute_result"
    }
   ],
   "source": [
<<<<<<< Updated upstream
    "#type your code here\n",
    "type(my_first_df)"
=======
    "my_first_df = pd.DataFrame(dicionario)\n",
    "my_first_df"
   ]
  },
  {
   "cell_type": "code",
   "execution_count": 17,
   "metadata": {
    "hideCode": false,
    "hidePrompt": false
   },
   "outputs": [
    {
     "data": {
      "text/plain": [
       "RangeIndex(start=0, stop=2, step=1)"
      ]
     },
     "execution_count": 17,
     "metadata": {},
     "output_type": "execute_result"
    }
   ],
   "source": [
    "my_first_df.index"
>>>>>>> Stashed changes
   ]
  },
  {
   "cell_type": "markdown",
   "metadata": {
    "hideCode": false,
    "hidePrompt": false
   },
   "source": [
    "In this example, the entry indexed by (\"0\", \"Key 1\") corresponds to \"Value 1\". The (\"0\",\"Key 2\") value corresponds to \"Value 3\" and so on.\n",
    "\n",
    "`DataFrame` entries are not limited to `strings`. For instance, here is a `DataFrame` whose values are not strings."
   ]
  },
  {
   "cell_type": "code",
   "execution_count": 12,
   "metadata": {
    "hideCode": false,
    "hidePrompt": false
   },
   "outputs": [],
   "source": [
    "#type your code here"
   ]
  },
  {
   "cell_type": "markdown",
   "metadata": {
    "hideCode": false,
    "hidePrompt": false
   },
   "source": [
    "We are using the `DataFrame()` constructor from the library `pandas` that we declared as `pd` to generate these `DataFrame` objects. The syntax for declaring a new one is a dictionary whose keys are the column names (`Yes`and `No` in the prior example). This is the standard way of constructing a new DataFrame, and the one you are most likely to encounter.\n",
    "\n",
    "The dictionary-list constructor assigns values to the column labels, but just uses an ascending count from 0 (0, 1, 2, 3, ...) for the `row labels`. Sometimes this is OK, but oftentimes we will want to assign these labels ourselves.\n",
    "\n",
    "The list of `row labels` used in a `DataFrame` is known as an **Index**. We can assign values to it by using an `index` parameter in our constructor, for example:"
   ]
  },
  {
   "cell_type": "code",
<<<<<<< Updated upstream
   "execution_count": 13,
=======
   "execution_count": 19,
>>>>>>> Stashed changes
   "metadata": {
    "hideCode": false,
    "hidePrompt": false
   },
   "outputs": [
    {
     "data": {
      "text/html": [
       "<div>\n",
       "<style scoped>\n",
       "    .dataframe tbody tr th:only-of-type {\n",
       "        vertical-align: middle;\n",
       "    }\n",
       "\n",
       "    .dataframe tbody tr th {\n",
       "        vertical-align: top;\n",
       "    }\n",
       "\n",
       "    .dataframe thead th {\n",
       "        text-align: right;\n",
       "    }\n",
       "</style>\n",
       "<table border=\"1\" class=\"dataframe\">\n",
       "  <thead>\n",
       "    <tr style=\"text-align: right;\">\n",
       "      <th></th>\n",
       "      <th>Yes</th>\n",
       "      <th>No</th>\n",
       "    </tr>\n",
       "  </thead>\n",
       "  <tbody>\n",
       "    <tr>\n",
       "      <th>Men</th>\n",
       "      <td>50</td>\n",
       "      <td>131</td>\n",
       "    </tr>\n",
       "    <tr>\n",
       "      <th>Women</th>\n",
       "      <td>21</td>\n",
       "      <td>2</td>\n",
       "    </tr>\n",
       "  </tbody>\n",
       "</table>\n",
       "</div>"
      ],
      "text/plain": [
       "       Yes   No\n",
       "Men     50  131\n",
       "Women   21    2"
      ]
     },
<<<<<<< Updated upstream
     "execution_count": 13,
=======
     "execution_count": 19,
>>>>>>> Stashed changes
     "metadata": {},
     "output_type": "execute_result"
    }
   ],
   "source": [
    "#type your code here\n",
<<<<<<< Updated upstream
    "pd.DataFrame({'Yes':[50,21],\n",
    "             'No':[131,2]},index=['Men','Women'])"
=======
    "pd.DataFrame({'Yes': [50,21], \n",
    "              'No': [131,2]}, index = ['Men','Women'])"
>>>>>>> Stashed changes
   ]
  },
  {
   "cell_type": "markdown",
   "metadata": {
    "hideCode": false,
    "hidePrompt": false
   },
   "source": [
    "<br/>\n",
    "\n",
    "##### 3.1.2 `Series`\n",
    "\n",
    "<hr>\n",
    "\n",
    "A `Series` is a sequence of data values. If a `DataFrame` is a **table**, a `Series` is a **list**, both with special methods and constructors than the ones available by using the `Matrix` (two-dimensional array) and `list` data structures. So, it is possible to generate a `pandas` `Series` with nothing more than a list, for example:"
   ]
  },
  {
   "cell_type": "code",
<<<<<<< Updated upstream
   "execution_count": 14,
=======
   "execution_count": 20,
>>>>>>> Stashed changes
   "metadata": {
    "hideCode": false,
    "hidePrompt": false
   },
   "outputs": [
    {
     "data": {
      "text/plain": [
       "0    10\n",
       "1    20\n",
       "2    50\n",
       "dtype: int64"
      ]
     },
<<<<<<< Updated upstream
     "execution_count": 14,
=======
     "execution_count": 20,
>>>>>>> Stashed changes
     "metadata": {},
     "output_type": "execute_result"
    }
   ],
   "source": [
    "#type your code here\n",
    "second_list = [10,20,50]\n",
    "pd.Series(second_list)"
   ]
  },
  {
   "cell_type": "markdown",
   "metadata": {
    "hideCode": false,
    "hidePrompt": false
   },
   "source": [
    "A `Series` is, in essence, a single column of a `DataFrame`. So you can assign column values to the `Series` the same way as before, using an `index` parameter. However"
   ]
  },
  {
   "cell_type": "code",
<<<<<<< Updated upstream
   "execution_count": 15,
=======
   "execution_count": 23,
>>>>>>> Stashed changes
   "metadata": {
    "hideCode": false,
    "hidePrompt": false
   },
   "outputs": [
    {
     "data": {
      "text/plain": [
       "2017    10\n",
       "2018    20\n",
       "2019    50\n",
<<<<<<< Updated upstream
       "Name: vendas pasteis, dtype: int64"
      ]
     },
     "execution_count": 15,
=======
       "Name: Bakery Sales, dtype: int64"
      ]
     },
     "execution_count": 23,
>>>>>>> Stashed changes
     "metadata": {},
     "output_type": "execute_result"
    }
   ],
   "source": [
    "#type your code here\n",
<<<<<<< Updated upstream
    "pd.Series(second_list,index=['2017','2018','2019'],name='vendas pasteis')"
=======
    "pd.Series(second_list, index=['2017','2018','2019'],name='Bakery Sales')"
>>>>>>> Stashed changes
   ]
  },
  {
   "cell_type": "markdown",
   "metadata": {
    "hideCode": false,
    "hidePrompt": false
   },
   "source": [
    "<hr>\n",
    "<hr>\n",
    "\n",
    "**Summarizing**, we saw that `pandas` library has two main objects `DataFrame` and `Series`. By this time it must be clear that they are intimately related. It's helpful to think of a DataFrame as actually being just a bunch of Series \"glued together\"\n",
    "\n",
    "<hr>\n",
    "<hr>"
   ]
  },
  {
   "cell_type": "markdown",
   "metadata": {
    "hideCode": false,
    "hidePrompt": false
   },
   "source": [
    "<br/>\n",
    "\n",
    "### 3.2 [Reading data](#II.II)\n",
    "<a id=\"II.II\"></a>\n",
    "\n",
    "<br/>\n",
    "\n",
    "Data can be stored in any of a number of different forms and formats. By far the most basic format is the CSV file or *Comma-Separated Values*. The function from pandas that will allow us to read this format to Python is `read_csv()`. Now, lets read our example database using `read_csv()` function."
   ]
  },
  {
   "cell_type": "code",
<<<<<<< Updated upstream
   "execution_count": 16,
=======
   "execution_count": 24,
>>>>>>> Stashed changes
   "metadata": {
    "hideCode": false,
    "hidePrompt": false
   },
   "outputs": [],
   "source": [
    "#type your code here\n",
<<<<<<< Updated upstream
    "df = pd.read_csv(\"data\\\\WorldBankDataReshaped.csv\")"
=======
    "df = pd.read_csv('data\\\\WorldBankDataReshaped.csv')"
>>>>>>> Stashed changes
   ]
  },
  {
   "cell_type": "markdown",
   "metadata": {
    "hideCode": false,
    "hidePrompt": false
   },
   "source": [
    "We can use the `shape` **attribute** to check the dimensions of the resulting `DataFrame`."
   ]
  },
  {
   "cell_type": "code",
<<<<<<< Updated upstream
   "execution_count": 17,
=======
   "execution_count": 25,
>>>>>>> Stashed changes
   "metadata": {
    "hideCode": false,
    "hidePrompt": false
   },
   "outputs": [
    {
     "data": {
      "text/plain": [
       "(59299, 6)"
      ]
     },
<<<<<<< Updated upstream
     "execution_count": 17,
=======
     "execution_count": 25,
>>>>>>> Stashed changes
     "metadata": {},
     "output_type": "execute_result"
    }
   ],
   "source": [
    "#type your code here\n",
    "df.shape"
   ]
  },
  {
   "cell_type": "markdown",
   "metadata": {
    "hideCode": false,
    "hidePrompt": false
   },
   "source": [
    "So our `DataFrame` has 59 k records split accross 6 different columns. That is almost 356 k entries!\n",
    "\n",
    "We can examine the contents of the resultant `DataFrame` using the `head()` **method**, which grabs, by default, the first five rows."
   ]
  },
  {
   "cell_type": "code",
<<<<<<< Updated upstream
   "execution_count": 18,
=======
   "execution_count": 26,
>>>>>>> Stashed changes
   "metadata": {
    "hideCode": false,
    "hidePrompt": false
   },
   "outputs": [
    {
     "data": {
      "text/html": [
       "<div>\n",
       "<style scoped>\n",
       "    .dataframe tbody tr th:only-of-type {\n",
       "        vertical-align: middle;\n",
       "    }\n",
       "\n",
       "    .dataframe tbody tr th {\n",
       "        vertical-align: top;\n",
       "    }\n",
       "\n",
       "    .dataframe thead th {\n",
       "        text-align: right;\n",
       "    }\n",
       "</style>\n",
       "<table border=\"1\" class=\"dataframe\">\n",
       "  <thead>\n",
       "    <tr style=\"text-align: right;\">\n",
       "      <th></th>\n",
       "      <th>Country Name</th>\n",
       "      <th>Country Code</th>\n",
       "      <th>Series Name</th>\n",
       "      <th>Time</th>\n",
       "      <th>value</th>\n",
       "      <th>Continent</th>\n",
       "    </tr>\n",
       "  </thead>\n",
       "  <tbody>\n",
       "    <tr>\n",
       "      <th>0</th>\n",
       "      <td>World</td>\n",
       "      <td>WLD</td>\n",
       "      <td>Access to electricity (% of population)</td>\n",
       "      <td>2000</td>\n",
       "      <td>77.723095</td>\n",
       "      <td>World</td>\n",
       "    </tr>\n",
       "    <tr>\n",
       "      <th>1</th>\n",
       "      <td>World</td>\n",
       "      <td>WLD</td>\n",
       "      <td>Access to electricity (% of population)</td>\n",
       "      <td>2001</td>\n",
       "      <td>77.287755</td>\n",
       "      <td>World</td>\n",
       "    </tr>\n",
       "    <tr>\n",
       "      <th>2</th>\n",
       "      <td>World</td>\n",
       "      <td>WLD</td>\n",
       "      <td>Access to electricity (% of population)</td>\n",
       "      <td>2002</td>\n",
       "      <td>78.819271</td>\n",
       "      <td>World</td>\n",
       "    </tr>\n",
       "    <tr>\n",
       "      <th>3</th>\n",
       "      <td>World</td>\n",
       "      <td>WLD</td>\n",
       "      <td>Access to electricity (% of population)</td>\n",
       "      <td>2003</td>\n",
       "      <td>79.454090</td>\n",
       "      <td>World</td>\n",
       "    </tr>\n",
       "    <tr>\n",
       "      <th>4</th>\n",
       "      <td>World</td>\n",
       "      <td>WLD</td>\n",
       "      <td>Access to electricity (% of population)</td>\n",
       "      <td>2004</td>\n",
       "      <td>79.682255</td>\n",
       "      <td>World</td>\n",
       "    </tr>\n",
       "    <tr>\n",
       "      <th>5</th>\n",
       "      <td>World</td>\n",
       "      <td>WLD</td>\n",
       "      <td>Access to electricity (% of population)</td>\n",
       "      <td>2005</td>\n",
       "      <td>80.375297</td>\n",
       "      <td>World</td>\n",
       "    </tr>\n",
<<<<<<< Updated upstream
       "    <tr>\n",
       "      <th>6</th>\n",
       "      <td>World</td>\n",
       "      <td>WLD</td>\n",
       "      <td>Access to electricity (% of population)</td>\n",
       "      <td>2006</td>\n",
       "      <td>81.202270</td>\n",
       "      <td>World</td>\n",
       "    </tr>\n",
       "    <tr>\n",
       "      <th>7</th>\n",
       "      <td>World</td>\n",
       "      <td>WLD</td>\n",
       "      <td>Access to electricity (% of population)</td>\n",
       "      <td>2007</td>\n",
       "      <td>81.744939</td>\n",
       "      <td>World</td>\n",
       "    </tr>\n",
       "    <tr>\n",
       "      <th>8</th>\n",
       "      <td>World</td>\n",
       "      <td>WLD</td>\n",
       "      <td>Access to electricity (% of population)</td>\n",
       "      <td>2008</td>\n",
       "      <td>82.275795</td>\n",
       "      <td>World</td>\n",
       "    </tr>\n",
       "    <tr>\n",
       "      <th>9</th>\n",
       "      <td>World</td>\n",
       "      <td>WLD</td>\n",
       "      <td>Access to electricity (% of population)</td>\n",
       "      <td>2009</td>\n",
       "      <td>83.208955</td>\n",
       "      <td>World</td>\n",
       "    </tr>\n",
=======
>>>>>>> Stashed changes
       "  </tbody>\n",
       "</table>\n",
       "</div>"
      ],
      "text/plain": [
       "  Country Name Country Code                              Series Name  Time  \\\n",
       "0        World          WLD  Access to electricity (% of population)  2000   \n",
       "1        World          WLD  Access to electricity (% of population)  2001   \n",
       "2        World          WLD  Access to electricity (% of population)  2002   \n",
       "3        World          WLD  Access to electricity (% of population)  2003   \n",
       "4        World          WLD  Access to electricity (% of population)  2004   \n",
       "5        World          WLD  Access to electricity (% of population)  2005   \n",
<<<<<<< Updated upstream
       "6        World          WLD  Access to electricity (% of population)  2006   \n",
       "7        World          WLD  Access to electricity (% of population)  2007   \n",
       "8        World          WLD  Access to electricity (% of population)  2008   \n",
       "9        World          WLD  Access to electricity (% of population)  2009   \n",
=======
>>>>>>> Stashed changes
       "\n",
       "       value Continent  \n",
       "0  77.723095     World  \n",
       "1  77.287755     World  \n",
       "2  78.819271     World  \n",
       "3  79.454090     World  \n",
       "4  79.682255     World  \n",
<<<<<<< Updated upstream
       "5  80.375297     World  \n",
       "6  81.202270     World  \n",
       "7  81.744939     World  \n",
       "8  82.275795     World  \n",
       "9  83.208955     World  "
      ]
     },
     "execution_count": 18,
=======
       "5  80.375297     World  "
      ]
     },
     "execution_count": 26,
>>>>>>> Stashed changes
     "metadata": {},
     "output_type": "execute_result"
    }
   ],
   "source": [
    "#type your code here\n",
<<<<<<< Updated upstream
    "df.head(10)"
=======
    "df.head(6)"
>>>>>>> Stashed changes
   ]
  },
  {
   "cell_type": "markdown",
   "metadata": {
    "hideCode": false,
    "hidePrompt": false
   },
   "source": [
    "The pandas `read_csv()` functions is well-endowed, with over 30 optional parameters for you to specify as needed. This optional parameters can allow you to read other types of format files. For example, by specifying the `sep='\\t'` this same function will allow you to read **tsv** files. Another optional parameter is the `index_col` which allows you to use the specified column (you will need to specify the number of the column starting by 0) as the `row_labels` of the `DataFrame`. For example:"
   ]
  },
  {
   "cell_type": "code",
   "execution_count": 19,
   "metadata": {
    "hideCode": false,
    "hidePrompt": false
   },
   "outputs": [],
   "source": [
    "#type your code here\n",
    "#help(pd.read_csv)"
   ]
  },
  {
   "cell_type": "code",
   "execution_count": 20,
   "metadata": {
    "hideCode": false,
    "hidePrompt": false
   },
   "outputs": [],
   "source": [
    "#type your code here"
   ]
  },
  {
   "cell_type": "markdown",
   "metadata": {
    "hideCode": false,
    "hidePrompt": false
   },
   "source": [
    "Another very common format is the **xlsx** or Excel files. Unfortunately, `read_csv()` method from pandas library will not let us read this type of data. For reading into Python this format we need to install the package `xlrd`. Once we do that we can simply use the pandas method `read_excel()` in the following way:"
   ]
  },
  {
   "cell_type": "code",
<<<<<<< Updated upstream
   "execution_count": 21,
=======
   "execution_count": 30,
>>>>>>> Stashed changes
   "metadata": {
    "hideCode": false,
    "hidePrompt": false
   },
   "outputs": [],
   "source": [
    "#type your code here\n",
<<<<<<< Updated upstream
    "\n",
    "raw_data = pd.read_excel(\"data\\\\Data_Extract_From_World_Development_Indicators-OCDE-BRCH-EU.xlsx\")"
=======
    "raw_data = pd.read_excel('data\\\\Data_Extract_From_World_Development_Indicators-OCDE-BRCH-EU.xlsx')"
>>>>>>> Stashed changes
   ]
  },
  {
   "cell_type": "code",
<<<<<<< Updated upstream
   "execution_count": 22,
   "metadata": {},
   "outputs": [
    {
     "name": "stdout",
     "output_type": "stream",
     "text": [
      "Requirement already satisfied: openpyxl in c:\\users\\gilnr\\anaconda3\\envs\\mlcourse\\lib\\site-packages (3.0.7)\n",
      "Requirement already satisfied: et-xmlfile in c:\\users\\gilnr\\anaconda3\\envs\\mlcourse\\lib\\site-packages (from openpyxl) (1.0.1)\n",
      "Note: you may need to restart the kernel to use updated packages.\n"
     ]
    }
   ],
   "source": [
    "pip install openpyxl"
   ]
  },
  {
   "cell_type": "code",
   "execution_count": 23,
=======
   "execution_count": 32,
>>>>>>> Stashed changes
   "metadata": {},
   "outputs": [
    {
     "data": {
      "text/plain": [
       "(3121, 23)"
      ]
     },
<<<<<<< Updated upstream
     "execution_count": 23,
=======
     "execution_count": 32,
>>>>>>> Stashed changes
     "metadata": {},
     "output_type": "execute_result"
    }
   ],
   "source": [
    "raw_data.shape"
   ]
  },
  {
   "cell_type": "code",
<<<<<<< Updated upstream
   "execution_count": 24,
   "metadata": {},
   "outputs": [
    {
     "data": {
      "text/plain": [
       "RangeIndex(start=0, stop=3121, step=1)"
      ]
     },
     "execution_count": 24,
     "metadata": {},
     "output_type": "execute_result"
    }
   ],
   "source": [
    "raw_data.index"
   ]
  },
  {
   "cell_type": "code",
   "execution_count": 25,
=======
   "execution_count": 31,
>>>>>>> Stashed changes
   "metadata": {
    "hideCode": false,
    "hidePrompt": false
   },
   "outputs": [
    {
     "data": {
      "text/html": [
       "<div>\n",
       "<style scoped>\n",
       "    .dataframe tbody tr th:only-of-type {\n",
       "        vertical-align: middle;\n",
       "    }\n",
       "\n",
       "    .dataframe tbody tr th {\n",
       "        vertical-align: top;\n",
       "    }\n",
       "\n",
       "    .dataframe thead th {\n",
       "        text-align: right;\n",
       "    }\n",
       "</style>\n",
       "<table border=\"1\" class=\"dataframe\">\n",
       "  <thead>\n",
       "    <tr style=\"text-align: right;\">\n",
       "      <th></th>\n",
       "      <th>Country Name</th>\n",
       "      <th>Country Code</th>\n",
       "      <th>Series Name</th>\n",
       "      <th>Series Code</th>\n",
       "      <th>2000 [YR2000]</th>\n",
       "      <th>2001 [YR2001]</th>\n",
       "      <th>2002 [YR2002]</th>\n",
       "      <th>2003 [YR2003]</th>\n",
       "      <th>2004 [YR2004]</th>\n",
       "      <th>2005 [YR2005]</th>\n",
       "      <th>...</th>\n",
       "      <th>2009 [YR2009]</th>\n",
       "      <th>2010 [YR2010]</th>\n",
       "      <th>2011 [YR2011]</th>\n",
       "      <th>2012 [YR2012]</th>\n",
       "      <th>2013 [YR2013]</th>\n",
       "      <th>2014 [YR2014]</th>\n",
       "      <th>2015 [YR2015]</th>\n",
       "      <th>2016 [YR2016]</th>\n",
       "      <th>2017 [YR2017]</th>\n",
       "      <th>2018 [YR2018]</th>\n",
       "    </tr>\n",
       "  </thead>\n",
       "  <tbody>\n",
       "    <tr>\n",
       "      <th>0</th>\n",
       "      <td>Austria</td>\n",
       "      <td>AUT</td>\n",
       "      <td>Access to electricity (% of population)</td>\n",
       "      <td>EG.ELC.ACCS.ZS</td>\n",
       "      <td>100</td>\n",
       "      <td>100</td>\n",
       "      <td>100</td>\n",
       "      <td>100</td>\n",
       "      <td>100</td>\n",
       "      <td>100</td>\n",
       "      <td>...</td>\n",
       "      <td>100</td>\n",
       "      <td>100</td>\n",
       "      <td>100</td>\n",
       "      <td>100</td>\n",
       "      <td>100</td>\n",
       "      <td>100</td>\n",
       "      <td>100</td>\n",
       "      <td>100</td>\n",
       "      <td>..</td>\n",
       "      <td>..</td>\n",
       "    </tr>\n",
       "    <tr>\n",
       "      <th>1</th>\n",
       "      <td>Austria</td>\n",
       "      <td>AUT</td>\n",
       "      <td>Age dependency ratio, young (% of working-age ...</td>\n",
       "      <td>SP.POP.DPND.YG</td>\n",
<<<<<<< Updated upstream
       "      <td>24.825048</td>\n",
       "      <td>24.460556</td>\n",
       "      <td>24.225475</td>\n",
       "      <td>24.062654</td>\n",
       "      <td>23.854738</td>\n",
       "      <td>23.546428</td>\n",
       "      <td>...</td>\n",
       "      <td>22.101695</td>\n",
       "      <td>21.807326</td>\n",
       "      <td>21.540906</td>\n",
       "      <td>21.340562</td>\n",
       "      <td>21.212222</td>\n",
       "      <td>21.127367</td>\n",
       "      <td>21.062139</td>\n",
       "      <td>21.078107</td>\n",
       "      <td>21.124684</td>\n",
=======
       "      <td>24.825</td>\n",
       "      <td>24.4606</td>\n",
       "      <td>24.2255</td>\n",
       "      <td>24.0627</td>\n",
       "      <td>23.8547</td>\n",
       "      <td>23.5464</td>\n",
       "      <td>...</td>\n",
       "      <td>22.1017</td>\n",
       "      <td>21.8073</td>\n",
       "      <td>21.5409</td>\n",
       "      <td>21.3406</td>\n",
       "      <td>21.2122</td>\n",
       "      <td>21.1274</td>\n",
       "      <td>21.0621</td>\n",
       "      <td>21.0781</td>\n",
       "      <td>21.1247</td>\n",
>>>>>>> Stashed changes
       "      <td>..</td>\n",
       "    </tr>\n",
       "    <tr>\n",
       "      <th>2</th>\n",
       "      <td>Austria</td>\n",
       "      <td>AUT</td>\n",
       "      <td>Age dependency ratio, old (% of working-age po...</td>\n",
       "      <td>SP.POP.DPND.OL</td>\n",
<<<<<<< Updated upstream
       "      <td>22.704681</td>\n",
       "      <td>22.865002</td>\n",
       "      <td>23.04895</td>\n",
       "      <td>23.27028</td>\n",
       "      <td>23.543976</td>\n",
       "      <td>23.878967</td>\n",
       "      <td>...</td>\n",
       "      <td>25.910498</td>\n",
       "      <td>26.373861</td>\n",
       "      <td>26.774899</td>\n",
       "      <td>27.129638</td>\n",
       "      <td>27.459419</td>\n",
       "      <td>27.781026</td>\n",
       "      <td>28.103528</td>\n",
       "      <td>28.45173</td>\n",
       "      <td>28.784953</td>\n",
=======
       "      <td>22.7047</td>\n",
       "      <td>22.865</td>\n",
       "      <td>23.0489</td>\n",
       "      <td>23.2703</td>\n",
       "      <td>23.544</td>\n",
       "      <td>23.879</td>\n",
       "      <td>...</td>\n",
       "      <td>25.9105</td>\n",
       "      <td>26.3739</td>\n",
       "      <td>26.7749</td>\n",
       "      <td>27.1296</td>\n",
       "      <td>27.4594</td>\n",
       "      <td>27.781</td>\n",
       "      <td>28.1035</td>\n",
       "      <td>28.4517</td>\n",
       "      <td>28.785</td>\n",
>>>>>>> Stashed changes
       "      <td>..</td>\n",
       "    </tr>\n",
       "    <tr>\n",
       "      <th>3</th>\n",
       "      <td>Austria</td>\n",
       "      <td>AUT</td>\n",
       "      <td>Bank capital to assets ratio (%)</td>\n",
       "      <td>FB.BNK.CAPA.ZS</td>\n",
       "      <td>..</td>\n",
       "      <td>..</td>\n",
       "      <td>..</td>\n",
       "      <td>..</td>\n",
       "      <td>..</td>\n",
       "      <td>..</td>\n",
       "      <td>...</td>\n",
       "      <td>6.9768</td>\n",
<<<<<<< Updated upstream
       "      <td>7.492756</td>\n",
       "      <td>7.186053</td>\n",
       "      <td>7.770114</td>\n",
       "      <td>7.98594</td>\n",
       "      <td>6.841916</td>\n",
       "      <td>7.446891</td>\n",
       "      <td>7.334234</td>\n",
       "      <td>7.541992</td>\n",
=======
       "      <td>7.49276</td>\n",
       "      <td>7.18605</td>\n",
       "      <td>7.77011</td>\n",
       "      <td>7.98594</td>\n",
       "      <td>6.84192</td>\n",
       "      <td>7.44689</td>\n",
       "      <td>7.33423</td>\n",
       "      <td>7.54199</td>\n",
>>>>>>> Stashed changes
       "      <td>..</td>\n",
       "    </tr>\n",
       "    <tr>\n",
       "      <th>4</th>\n",
       "      <td>Austria</td>\n",
       "      <td>AUT</td>\n",
       "      <td>Benefit incidence of social insurance programs...</td>\n",
       "      <td>per_si_allsi.ben_q1_tot</td>\n",
       "      <td>..</td>\n",
       "      <td>..</td>\n",
       "      <td>..</td>\n",
       "      <td>..</td>\n",
       "      <td>..</td>\n",
       "      <td>..</td>\n",
       "      <td>...</td>\n",
       "      <td>..</td>\n",
       "      <td>..</td>\n",
       "      <td>..</td>\n",
       "      <td>..</td>\n",
       "      <td>..</td>\n",
       "      <td>..</td>\n",
       "      <td>..</td>\n",
       "      <td>..</td>\n",
       "      <td>..</td>\n",
       "      <td>..</td>\n",
       "    </tr>\n",
       "  </tbody>\n",
       "</table>\n",
       "<p>5 rows × 23 columns</p>\n",
       "</div>"
      ],
      "text/plain": [
       "  Country Name Country Code  \\\n",
       "0      Austria          AUT   \n",
       "1      Austria          AUT   \n",
       "2      Austria          AUT   \n",
       "3      Austria          AUT   \n",
       "4      Austria          AUT   \n",
       "\n",
       "                                         Series Name              Series Code  \\\n",
       "0            Access to electricity (% of population)           EG.ELC.ACCS.ZS   \n",
       "1  Age dependency ratio, young (% of working-age ...           SP.POP.DPND.YG   \n",
       "2  Age dependency ratio, old (% of working-age po...           SP.POP.DPND.OL   \n",
       "3                   Bank capital to assets ratio (%)           FB.BNK.CAPA.ZS   \n",
       "4  Benefit incidence of social insurance programs...  per_si_allsi.ben_q1_tot   \n",
       "\n",
       "  2000 [YR2000] 2001 [YR2001] 2002 [YR2002] 2003 [YR2003] 2004 [YR2004]  \\\n",
       "0           100           100           100           100           100   \n",
<<<<<<< Updated upstream
       "1     24.825048     24.460556     24.225475     24.062654     23.854738   \n",
       "2     22.704681     22.865002      23.04895      23.27028     23.543976   \n",
=======
       "1        24.825       24.4606       24.2255       24.0627       23.8547   \n",
       "2       22.7047        22.865       23.0489       23.2703        23.544   \n",
>>>>>>> Stashed changes
       "3            ..            ..            ..            ..            ..   \n",
       "4            ..            ..            ..            ..            ..   \n",
       "\n",
       "  2005 [YR2005]  ... 2009 [YR2009] 2010 [YR2010] 2011 [YR2011] 2012 [YR2012]  \\\n",
       "0           100  ...           100           100           100           100   \n",
<<<<<<< Updated upstream
       "1     23.546428  ...     22.101695     21.807326     21.540906     21.340562   \n",
       "2     23.878967  ...     25.910498     26.373861     26.774899     27.129638   \n",
       "3            ..  ...        6.9768      7.492756      7.186053      7.770114   \n",
=======
       "1       23.5464  ...       22.1017       21.8073       21.5409       21.3406   \n",
       "2        23.879  ...       25.9105       26.3739       26.7749       27.1296   \n",
       "3            ..  ...        6.9768       7.49276       7.18605       7.77011   \n",
>>>>>>> Stashed changes
       "4            ..  ...            ..            ..            ..            ..   \n",
       "\n",
       "  2013 [YR2013] 2014 [YR2014] 2015 [YR2015] 2016 [YR2016] 2017 [YR2017]  \\\n",
       "0           100           100           100           100            ..   \n",
<<<<<<< Updated upstream
       "1     21.212222     21.127367     21.062139     21.078107     21.124684   \n",
       "2     27.459419     27.781026     28.103528      28.45173     28.784953   \n",
       "3       7.98594      6.841916      7.446891      7.334234      7.541992   \n",
=======
       "1       21.2122       21.1274       21.0621       21.0781       21.1247   \n",
       "2       27.4594        27.781       28.1035       28.4517        28.785   \n",
       "3       7.98594       6.84192       7.44689       7.33423       7.54199   \n",
>>>>>>> Stashed changes
       "4            ..            ..            ..            ..            ..   \n",
       "\n",
       "  2018 [YR2018]  \n",
       "0            ..  \n",
       "1            ..  \n",
       "2            ..  \n",
       "3            ..  \n",
       "4            ..  \n",
       "\n",
       "[5 rows x 23 columns]"
      ]
     },
<<<<<<< Updated upstream
     "execution_count": 25,
=======
     "execution_count": 31,
>>>>>>> Stashed changes
     "metadata": {},
     "output_type": "execute_result"
    }
   ],
   "source": [
    "#type your code here\n",
    "raw_data.head()"
   ]
  },
  {
   "cell_type": "code",
<<<<<<< Updated upstream
   "execution_count": 26,
=======
   "execution_count": 33,
>>>>>>> Stashed changes
   "metadata": {},
   "outputs": [
    {
     "data": {
      "text/html": [
       "<div>\n",
       "<style scoped>\n",
       "    .dataframe tbody tr th:only-of-type {\n",
       "        vertical-align: middle;\n",
       "    }\n",
       "\n",
       "    .dataframe tbody tr th {\n",
       "        vertical-align: top;\n",
       "    }\n",
       "\n",
       "    .dataframe thead th {\n",
       "        text-align: right;\n",
       "    }\n",
       "</style>\n",
       "<table border=\"1\" class=\"dataframe\">\n",
       "  <thead>\n",
       "    <tr style=\"text-align: right;\">\n",
       "      <th></th>\n",
       "      <th>Country Name</th>\n",
       "      <th>Country Code</th>\n",
       "      <th>Series Name</th>\n",
       "      <th>Series Code</th>\n",
       "      <th>2000 [YR2000]</th>\n",
       "      <th>2001 [YR2001]</th>\n",
       "      <th>2002 [YR2002]</th>\n",
       "      <th>2003 [YR2003]</th>\n",
       "      <th>2004 [YR2004]</th>\n",
       "      <th>2005 [YR2005]</th>\n",
       "      <th>...</th>\n",
       "      <th>2009 [YR2009]</th>\n",
       "      <th>2010 [YR2010]</th>\n",
       "      <th>2011 [YR2011]</th>\n",
       "      <th>2012 [YR2012]</th>\n",
       "      <th>2013 [YR2013]</th>\n",
       "      <th>2014 [YR2014]</th>\n",
       "      <th>2015 [YR2015]</th>\n",
       "      <th>2016 [YR2016]</th>\n",
       "      <th>2017 [YR2017]</th>\n",
       "      <th>2018 [YR2018]</th>\n",
       "    </tr>\n",
       "  </thead>\n",
       "  <tbody>\n",
       "    <tr>\n",
       "      <th>3116</th>\n",
       "      <td>NaN</td>\n",
       "      <td>NaN</td>\n",
       "      <td>NaN</td>\n",
       "      <td>NaN</td>\n",
       "      <td>NaN</td>\n",
       "      <td>NaN</td>\n",
       "      <td>NaN</td>\n",
       "      <td>NaN</td>\n",
       "      <td>NaN</td>\n",
       "      <td>NaN</td>\n",
       "      <td>...</td>\n",
       "      <td>NaN</td>\n",
       "      <td>NaN</td>\n",
       "      <td>NaN</td>\n",
       "      <td>NaN</td>\n",
       "      <td>NaN</td>\n",
       "      <td>NaN</td>\n",
       "      <td>NaN</td>\n",
       "      <td>NaN</td>\n",
       "      <td>NaN</td>\n",
       "      <td>NaN</td>\n",
       "    </tr>\n",
       "    <tr>\n",
       "      <th>3117</th>\n",
       "      <td>NaN</td>\n",
       "      <td>NaN</td>\n",
       "      <td>NaN</td>\n",
       "      <td>NaN</td>\n",
       "      <td>NaN</td>\n",
       "      <td>NaN</td>\n",
       "      <td>NaN</td>\n",
       "      <td>NaN</td>\n",
       "      <td>NaN</td>\n",
       "      <td>NaN</td>\n",
       "      <td>...</td>\n",
       "      <td>NaN</td>\n",
       "      <td>NaN</td>\n",
       "      <td>NaN</td>\n",
       "      <td>NaN</td>\n",
       "      <td>NaN</td>\n",
       "      <td>NaN</td>\n",
       "      <td>NaN</td>\n",
       "      <td>NaN</td>\n",
       "      <td>NaN</td>\n",
       "      <td>NaN</td>\n",
       "    </tr>\n",
       "    <tr>\n",
       "      <th>3118</th>\n",
       "      <td>NaN</td>\n",
       "      <td>NaN</td>\n",
       "      <td>NaN</td>\n",
       "      <td>NaN</td>\n",
       "      <td>NaN</td>\n",
       "      <td>NaN</td>\n",
       "      <td>NaN</td>\n",
       "      <td>NaN</td>\n",
       "      <td>NaN</td>\n",
       "      <td>NaN</td>\n",
       "      <td>...</td>\n",
       "      <td>NaN</td>\n",
       "      <td>NaN</td>\n",
       "      <td>NaN</td>\n",
       "      <td>NaN</td>\n",
       "      <td>NaN</td>\n",
       "      <td>NaN</td>\n",
       "      <td>NaN</td>\n",
       "      <td>NaN</td>\n",
       "      <td>NaN</td>\n",
       "      <td>NaN</td>\n",
       "    </tr>\n",
       "    <tr>\n",
       "      <th>3119</th>\n",
       "      <td>Data from database: World Development Indicators</td>\n",
       "      <td>NaN</td>\n",
       "      <td>NaN</td>\n",
       "      <td>NaN</td>\n",
       "      <td>NaN</td>\n",
       "      <td>NaN</td>\n",
       "      <td>NaN</td>\n",
       "      <td>NaN</td>\n",
       "      <td>NaN</td>\n",
       "      <td>NaN</td>\n",
       "      <td>...</td>\n",
       "      <td>NaN</td>\n",
       "      <td>NaN</td>\n",
       "      <td>NaN</td>\n",
       "      <td>NaN</td>\n",
       "      <td>NaN</td>\n",
       "      <td>NaN</td>\n",
       "      <td>NaN</td>\n",
       "      <td>NaN</td>\n",
       "      <td>NaN</td>\n",
       "      <td>NaN</td>\n",
       "    </tr>\n",
       "    <tr>\n",
       "      <th>3120</th>\n",
       "      <td>Last Updated: 04/24/2019</td>\n",
       "      <td>NaN</td>\n",
       "      <td>NaN</td>\n",
       "      <td>NaN</td>\n",
       "      <td>NaN</td>\n",
       "      <td>NaN</td>\n",
       "      <td>NaN</td>\n",
       "      <td>NaN</td>\n",
       "      <td>NaN</td>\n",
       "      <td>NaN</td>\n",
       "      <td>...</td>\n",
       "      <td>NaN</td>\n",
       "      <td>NaN</td>\n",
       "      <td>NaN</td>\n",
       "      <td>NaN</td>\n",
       "      <td>NaN</td>\n",
       "      <td>NaN</td>\n",
       "      <td>NaN</td>\n",
       "      <td>NaN</td>\n",
       "      <td>NaN</td>\n",
       "      <td>NaN</td>\n",
       "    </tr>\n",
       "  </tbody>\n",
       "</table>\n",
       "<p>5 rows × 23 columns</p>\n",
       "</div>"
      ],
      "text/plain": [
       "                                          Country Name Country Code  \\\n",
       "3116                                               NaN          NaN   \n",
       "3117                                               NaN          NaN   \n",
       "3118                                               NaN          NaN   \n",
       "3119  Data from database: World Development Indicators          NaN   \n",
       "3120                          Last Updated: 04/24/2019          NaN   \n",
       "\n",
       "     Series Name Series Code 2000 [YR2000] 2001 [YR2001] 2002 [YR2002]  \\\n",
       "3116         NaN         NaN           NaN           NaN           NaN   \n",
       "3117         NaN         NaN           NaN           NaN           NaN   \n",
       "3118         NaN         NaN           NaN           NaN           NaN   \n",
       "3119         NaN         NaN           NaN           NaN           NaN   \n",
       "3120         NaN         NaN           NaN           NaN           NaN   \n",
       "\n",
       "     2003 [YR2003] 2004 [YR2004] 2005 [YR2005]  ... 2009 [YR2009]  \\\n",
       "3116           NaN           NaN           NaN  ...           NaN   \n",
       "3117           NaN           NaN           NaN  ...           NaN   \n",
       "3118           NaN           NaN           NaN  ...           NaN   \n",
       "3119           NaN           NaN           NaN  ...           NaN   \n",
       "3120           NaN           NaN           NaN  ...           NaN   \n",
       "\n",
       "     2010 [YR2010] 2011 [YR2011] 2012 [YR2012] 2013 [YR2013] 2014 [YR2014]  \\\n",
       "3116           NaN           NaN           NaN           NaN           NaN   \n",
       "3117           NaN           NaN           NaN           NaN           NaN   \n",
       "3118           NaN           NaN           NaN           NaN           NaN   \n",
       "3119           NaN           NaN           NaN           NaN           NaN   \n",
       "3120           NaN           NaN           NaN           NaN           NaN   \n",
       "\n",
       "     2015 [YR2015] 2016 [YR2016] 2017 [YR2017] 2018 [YR2018]  \n",
       "3116           NaN           NaN           NaN           NaN  \n",
       "3117           NaN           NaN           NaN           NaN  \n",
       "3118           NaN           NaN           NaN           NaN  \n",
       "3119           NaN           NaN           NaN           NaN  \n",
       "3120           NaN           NaN           NaN           NaN  \n",
       "\n",
       "[5 rows x 23 columns]"
      ]
     },
<<<<<<< Updated upstream
     "execution_count": 26,
=======
     "execution_count": 33,
>>>>>>> Stashed changes
     "metadata": {},
     "output_type": "execute_result"
    }
   ],
   "source": [
    "raw_data.tail()"
   ]
  },
  {
   "cell_type": "markdown",
   "metadata": {
    "hideCode": false,
    "hidePrompt": false
   },
   "source": [
    "The dataset above is the extraction as downloaded from [World Bank's databank](https://databank.worldbank.org/data/source/world-development-indicators#). \n",
    "\n",
    "So far we have declared to our *environment* two <code>dataframe</code>  objects: `data` & `row_data`. The first one has been preprocessed in such a way to reshape it from a wide to a long format. The only difference is that for each country data belonging to a specific series was horizonatally presented (in raw data), but now it is in a *panel data* fashion. \n",
    "\n",
    "\n",
    "<div class=\"alert alert-block alert-info\">\n",
    "<b>Note:</b> that you can always access to the <i>specifications</i> of a method by simply ending the method statement with a question mark instead of parenthesis. For example, lets see the additional parameters available in the <code>read_excel</code> method.\n",
    "</div>\n",
    "\n",
    "\n"
   ]
  },
  {
   "cell_type": "raw",
   "metadata": {
    "hideCode": false,
    "hidePrompt": false
   },
   "source": [
    "pd.read_excel?"
   ]
  },
  {
   "cell_type": "markdown",
   "metadata": {
    "hideCode": false,
    "hidePrompt": false
   },
   "source": [
    "For example, note that optional parameter `sheet_name` will let you pick the Excel worksheet of your choice (the default one is the first one indexed by number 0). \n",
    "\n",
    "<hr>\n",
    "\n",
    "#### Exercise \n",
    "\n",
    "<hr>\n",
    "\n",
    "Use the information about the parameters of method `read_excel()` mentioned above to:\n",
    "+ Read the `Data_Extract_From_World_Development_Indicators-OCDE-BRCH-EU.xlsx` file using col `Country Code` as `row_labels`\n",
    "+ Use attribute `shape` to check the dimensions of it\n",
    "+ Use the method `head()` to let us visualize the 3 first rows of it"
   ]
  },
  {
   "cell_type": "code",
<<<<<<< Updated upstream
   "execution_count": 27,
=======
   "execution_count": 38,
   "metadata": {
    "hideCode": false,
    "hidePrompt": false
   },
   "outputs": [],
   "source": [
    "#type your code here\n",
    "# pd.read_excel?\n",
    "raw_data = pd.read_excel('data\\\\Data_Extract_From_World_Development_Indicators-OCDE-BRCH-EU.xlsx', index_col = 'Country Code')"
   ]
  },
  {
   "cell_type": "code",
   "execution_count": 40,
>>>>>>> Stashed changes
   "metadata": {
    "hideCode": false,
    "hidePrompt": false
   },
   "outputs": [
    {
     "data": {
      "text/html": [
       "<div>\n",
       "<style scoped>\n",
       "    .dataframe tbody tr th:only-of-type {\n",
       "        vertical-align: middle;\n",
       "    }\n",
       "\n",
       "    .dataframe tbody tr th {\n",
       "        vertical-align: top;\n",
       "    }\n",
       "\n",
       "    .dataframe thead th {\n",
       "        text-align: right;\n",
       "    }\n",
       "</style>\n",
       "<table border=\"1\" class=\"dataframe\">\n",
       "  <thead>\n",
       "    <tr style=\"text-align: right;\">\n",
       "      <th></th>\n",
       "      <th>Country Name</th>\n",
       "      <th>Series Name</th>\n",
       "      <th>Series Code</th>\n",
       "      <th>2000 [YR2000]</th>\n",
       "      <th>2001 [YR2001]</th>\n",
       "      <th>2002 [YR2002]</th>\n",
       "      <th>2003 [YR2003]</th>\n",
       "      <th>2004 [YR2004]</th>\n",
       "      <th>2005 [YR2005]</th>\n",
       "      <th>2006 [YR2006]</th>\n",
       "      <th>...</th>\n",
       "      <th>2009 [YR2009]</th>\n",
       "      <th>2010 [YR2010]</th>\n",
       "      <th>2011 [YR2011]</th>\n",
       "      <th>2012 [YR2012]</th>\n",
       "      <th>2013 [YR2013]</th>\n",
       "      <th>2014 [YR2014]</th>\n",
       "      <th>2015 [YR2015]</th>\n",
       "      <th>2016 [YR2016]</th>\n",
       "      <th>2017 [YR2017]</th>\n",
       "      <th>2018 [YR2018]</th>\n",
       "    </tr>\n",
       "    <tr>\n",
       "      <th>Country Code</th>\n",
       "      <th></th>\n",
       "      <th></th>\n",
       "      <th></th>\n",
       "      <th></th>\n",
       "      <th></th>\n",
       "      <th></th>\n",
       "      <th></th>\n",
       "      <th></th>\n",
       "      <th></th>\n",
       "      <th></th>\n",
       "      <th></th>\n",
       "      <th></th>\n",
       "      <th></th>\n",
       "      <th></th>\n",
       "      <th></th>\n",
       "      <th></th>\n",
       "      <th></th>\n",
       "      <th></th>\n",
       "      <th></th>\n",
       "      <th></th>\n",
       "      <th></th>\n",
       "    </tr>\n",
       "  </thead>\n",
       "  <tbody>\n",
       "    <tr>\n",
       "      <th>AUT</th>\n",
       "      <td>Austria</td>\n",
       "      <td>Access to electricity (% of population)</td>\n",
       "      <td>EG.ELC.ACCS.ZS</td>\n",
       "      <td>100</td>\n",
       "      <td>100</td>\n",
       "      <td>100</td>\n",
       "      <td>100</td>\n",
       "      <td>100</td>\n",
       "      <td>100</td>\n",
       "      <td>100</td>\n",
       "      <td>...</td>\n",
       "      <td>100</td>\n",
       "      <td>100</td>\n",
       "      <td>100</td>\n",
       "      <td>100</td>\n",
       "      <td>100</td>\n",
       "      <td>100</td>\n",
       "      <td>100</td>\n",
       "      <td>100</td>\n",
       "      <td>..</td>\n",
       "      <td>..</td>\n",
       "    </tr>\n",
       "    <tr>\n",
       "      <th>AUT</th>\n",
       "      <td>Austria</td>\n",
       "      <td>Age dependency ratio, young (% of working-age ...</td>\n",
       "      <td>SP.POP.DPND.YG</td>\n",
<<<<<<< Updated upstream
       "      <td>24.825048</td>\n",
       "      <td>24.460556</td>\n",
       "      <td>24.225475</td>\n",
       "      <td>24.062654</td>\n",
       "      <td>23.854738</td>\n",
       "      <td>23.546428</td>\n",
       "      <td>23.264901</td>\n",
       "      <td>...</td>\n",
       "      <td>22.101695</td>\n",
       "      <td>21.807326</td>\n",
       "      <td>21.540906</td>\n",
       "      <td>21.340562</td>\n",
       "      <td>21.212222</td>\n",
       "      <td>21.127367</td>\n",
       "      <td>21.062139</td>\n",
       "      <td>21.078107</td>\n",
       "      <td>21.124684</td>\n",
=======
       "      <td>24.825</td>\n",
       "      <td>24.4606</td>\n",
       "      <td>24.2255</td>\n",
       "      <td>24.0627</td>\n",
       "      <td>23.8547</td>\n",
       "      <td>23.5464</td>\n",
       "      <td>23.2649</td>\n",
       "      <td>...</td>\n",
       "      <td>22.1017</td>\n",
       "      <td>21.8073</td>\n",
       "      <td>21.5409</td>\n",
       "      <td>21.3406</td>\n",
       "      <td>21.2122</td>\n",
       "      <td>21.1274</td>\n",
       "      <td>21.0621</td>\n",
       "      <td>21.0781</td>\n",
       "      <td>21.1247</td>\n",
>>>>>>> Stashed changes
       "      <td>..</td>\n",
       "    </tr>\n",
       "    <tr>\n",
       "      <th>AUT</th>\n",
       "      <td>Austria</td>\n",
       "      <td>Age dependency ratio, old (% of working-age po...</td>\n",
       "      <td>SP.POP.DPND.OL</td>\n",
<<<<<<< Updated upstream
       "      <td>22.704681</td>\n",
       "      <td>22.865002</td>\n",
       "      <td>23.04895</td>\n",
       "      <td>23.27028</td>\n",
       "      <td>23.543976</td>\n",
       "      <td>23.878967</td>\n",
       "      <td>24.34006</td>\n",
       "      <td>...</td>\n",
       "      <td>25.910498</td>\n",
       "      <td>26.373861</td>\n",
       "      <td>26.774899</td>\n",
       "      <td>27.129638</td>\n",
       "      <td>27.459419</td>\n",
       "      <td>27.781026</td>\n",
       "      <td>28.103528</td>\n",
       "      <td>28.45173</td>\n",
       "      <td>28.784953</td>\n",
=======
       "      <td>22.7047</td>\n",
       "      <td>22.865</td>\n",
       "      <td>23.0489</td>\n",
       "      <td>23.2703</td>\n",
       "      <td>23.544</td>\n",
       "      <td>23.879</td>\n",
       "      <td>24.3401</td>\n",
       "      <td>...</td>\n",
       "      <td>25.9105</td>\n",
       "      <td>26.3739</td>\n",
       "      <td>26.7749</td>\n",
       "      <td>27.1296</td>\n",
       "      <td>27.4594</td>\n",
       "      <td>27.781</td>\n",
       "      <td>28.1035</td>\n",
       "      <td>28.4517</td>\n",
       "      <td>28.785</td>\n",
       "      <td>..</td>\n",
       "    </tr>\n",
       "    <tr>\n",
       "      <th>AUT</th>\n",
       "      <td>Austria</td>\n",
       "      <td>Bank capital to assets ratio (%)</td>\n",
       "      <td>FB.BNK.CAPA.ZS</td>\n",
       "      <td>..</td>\n",
       "      <td>..</td>\n",
       "      <td>..</td>\n",
       "      <td>..</td>\n",
       "      <td>..</td>\n",
       "      <td>..</td>\n",
       "      <td>5.23982</td>\n",
       "      <td>...</td>\n",
       "      <td>6.9768</td>\n",
       "      <td>7.49276</td>\n",
       "      <td>7.18605</td>\n",
       "      <td>7.77011</td>\n",
       "      <td>7.98594</td>\n",
       "      <td>6.84192</td>\n",
       "      <td>7.44689</td>\n",
       "      <td>7.33423</td>\n",
       "      <td>7.54199</td>\n",
       "      <td>..</td>\n",
       "    </tr>\n",
       "    <tr>\n",
       "      <th>AUT</th>\n",
       "      <td>Austria</td>\n",
       "      <td>Benefit incidence of social insurance programs...</td>\n",
       "      <td>per_si_allsi.ben_q1_tot</td>\n",
       "      <td>..</td>\n",
       "      <td>..</td>\n",
       "      <td>..</td>\n",
       "      <td>..</td>\n",
       "      <td>..</td>\n",
       "      <td>..</td>\n",
       "      <td>..</td>\n",
       "      <td>...</td>\n",
       "      <td>..</td>\n",
       "      <td>..</td>\n",
       "      <td>..</td>\n",
       "      <td>..</td>\n",
       "      <td>..</td>\n",
       "      <td>..</td>\n",
       "      <td>..</td>\n",
       "      <td>..</td>\n",
       "      <td>..</td>\n",
>>>>>>> Stashed changes
       "      <td>..</td>\n",
       "    </tr>\n",
       "  </tbody>\n",
       "</table>\n",
<<<<<<< Updated upstream
       "<p>3 rows × 22 columns</p>\n",
=======
       "<p>5 rows × 22 columns</p>\n",
>>>>>>> Stashed changes
       "</div>"
      ],
      "text/plain": [
       "             Country Name                                        Series Name  \\\n",
       "Country Code                                                                   \n",
       "AUT               Austria            Access to electricity (% of population)   \n",
       "AUT               Austria  Age dependency ratio, young (% of working-age ...   \n",
       "AUT               Austria  Age dependency ratio, old (% of working-age po...   \n",
<<<<<<< Updated upstream
       "\n",
       "                 Series Code 2000 [YR2000] 2001 [YR2001] 2002 [YR2002]  \\\n",
       "Country Code                                                             \n",
       "AUT           EG.ELC.ACCS.ZS           100           100           100   \n",
       "AUT           SP.POP.DPND.YG     24.825048     24.460556     24.225475   \n",
       "AUT           SP.POP.DPND.OL     22.704681     22.865002      23.04895   \n",
       "\n",
       "             2003 [YR2003] 2004 [YR2004] 2005 [YR2005] 2006 [YR2006]  ...  \\\n",
       "Country Code                                                          ...   \n",
       "AUT                    100           100           100           100  ...   \n",
       "AUT              24.062654     23.854738     23.546428     23.264901  ...   \n",
       "AUT               23.27028     23.543976     23.878967      24.34006  ...   \n",
       "\n",
       "             2009 [YR2009] 2010 [YR2010] 2011 [YR2011] 2012 [YR2012]  \\\n",
       "Country Code                                                           \n",
       "AUT                    100           100           100           100   \n",
       "AUT              22.101695     21.807326     21.540906     21.340562   \n",
       "AUT              25.910498     26.373861     26.774899     27.129638   \n",
       "\n",
       "             2013 [YR2013] 2014 [YR2014] 2015 [YR2015] 2016 [YR2016]  \\\n",
       "Country Code                                                           \n",
       "AUT                    100           100           100           100   \n",
       "AUT              21.212222     21.127367     21.062139     21.078107   \n",
       "AUT              27.459419     27.781026     28.103528      28.45173   \n",
       "\n",
       "             2017 [YR2017] 2018 [YR2018]  \n",
       "Country Code                              \n",
       "AUT                     ..            ..  \n",
       "AUT              21.124684            ..  \n",
       "AUT              28.784953            ..  \n",
       "\n",
       "[3 rows x 22 columns]"
      ]
     },
     "execution_count": 27,
=======
       "AUT               Austria                   Bank capital to assets ratio (%)   \n",
       "AUT               Austria  Benefit incidence of social insurance programs...   \n",
       "\n",
       "                          Series Code 2000 [YR2000] 2001 [YR2001]  \\\n",
       "Country Code                                                        \n",
       "AUT                    EG.ELC.ACCS.ZS           100           100   \n",
       "AUT                    SP.POP.DPND.YG        24.825       24.4606   \n",
       "AUT                    SP.POP.DPND.OL       22.7047        22.865   \n",
       "AUT                    FB.BNK.CAPA.ZS            ..            ..   \n",
       "AUT           per_si_allsi.ben_q1_tot            ..            ..   \n",
       "\n",
       "             2002 [YR2002] 2003 [YR2003] 2004 [YR2004] 2005 [YR2005]  \\\n",
       "Country Code                                                           \n",
       "AUT                    100           100           100           100   \n",
       "AUT                24.2255       24.0627       23.8547       23.5464   \n",
       "AUT                23.0489       23.2703        23.544        23.879   \n",
       "AUT                     ..            ..            ..            ..   \n",
       "AUT                     ..            ..            ..            ..   \n",
       "\n",
       "             2006 [YR2006]  ... 2009 [YR2009] 2010 [YR2010] 2011 [YR2011]  \\\n",
       "Country Code                ...                                             \n",
       "AUT                    100  ...           100           100           100   \n",
       "AUT                23.2649  ...       22.1017       21.8073       21.5409   \n",
       "AUT                24.3401  ...       25.9105       26.3739       26.7749   \n",
       "AUT                5.23982  ...        6.9768       7.49276       7.18605   \n",
       "AUT                     ..  ...            ..            ..            ..   \n",
       "\n",
       "             2012 [YR2012] 2013 [YR2013] 2014 [YR2014] 2015 [YR2015]  \\\n",
       "Country Code                                                           \n",
       "AUT                    100           100           100           100   \n",
       "AUT                21.3406       21.2122       21.1274       21.0621   \n",
       "AUT                27.1296       27.4594        27.781       28.1035   \n",
       "AUT                7.77011       7.98594       6.84192       7.44689   \n",
       "AUT                     ..            ..            ..            ..   \n",
       "\n",
       "             2016 [YR2016] 2017 [YR2017] 2018 [YR2018]  \n",
       "Country Code                                            \n",
       "AUT                    100            ..            ..  \n",
       "AUT                21.0781       21.1247            ..  \n",
       "AUT                28.4517        28.785            ..  \n",
       "AUT                7.33423       7.54199            ..  \n",
       "AUT                     ..            ..            ..  \n",
       "\n",
       "[5 rows x 22 columns]"
      ]
     },
     "execution_count": 40,
>>>>>>> Stashed changes
     "metadata": {},
     "output_type": "execute_result"
    }
   ],
   "source": [
    "#type your code here\n",
<<<<<<< Updated upstream
    "raw_data_2 = pd.read_excel(\"data\\\\Data_Extract_From_World_Development_Indicators-OCDE-BRCH-EU.xlsx\",index_col=1)\n",
    "raw_data_2.head(3)"
   ]
  },
  {
   "cell_type": "code",
   "execution_count": 28,
   "metadata": {
    "hideCode": false,
    "hidePrompt": false
   },
   "outputs": [],
   "source": [
    "#type your code here\n",
    "pd.read_excel?"
=======
    "raw_data.head()"
>>>>>>> Stashed changes
   ]
  },
  {
   "cell_type": "markdown",
   "metadata": {
    "hideCode": false,
    "hidePrompt": false
   },
   "source": [
    "<br/>\n",
    "\n",
    "## 4. [Indexing, Selecting and Assigning](#III)\n",
    "<a id=\"III\"></a>\n",
    "<br/>\n",
    "\n",
    "Selecting specific values of a pandas `DataFrame` or `Series` to work on is an implicit step in almost any data operation you'll run, so one of the first things you need to learn in working with data in Python is how to go about selecting the data points relevant to you quickly and effectively.\n",
    "\n",
    "<br/>\n",
    "\n"
   ]
  },
  {
   "cell_type": "markdown",
   "metadata": {
    "hideCode": false,
    "hidePrompt": false
   },
   "source": [
    "### 4.1 [Naitive Python accessors](#III.I)\n",
    "<a id=\"III.I\"></a>\n",
    "<br/>\n",
    "\n",
    "Native Python objects provide good ways of indexing data. Pandas carries all of these over, which helps make it easy to start with.\n",
    "\n",
    "In Python, we can access the property of an object by accessing it as an attribute. A `book` object, for example, might have a `title` property, which we can access by calling `book.title`. **Columns in a pandas** `DataFrame` **work in much the same way**.\n",
    "\n",
    "Hence to access the `Continent` **property** of our `data` we can use:"
   ]
  },
  {
   "cell_type": "code",
   "execution_count": 32,
   "metadata": {
    "hideCode": false,
    "hidePrompt": false
   },
   "outputs": [],
   "source": [
    "#type your code here\n",
    "# df.Series.Name"
   ]
  },
  {
   "cell_type": "markdown",
   "metadata": {
    "hideCode": false,
    "hidePrompt": false
   },
   "source": [
    "In Python dictionaries we can access its values by using the indexing `[ ]` operator. And, so we can do the same with columns in a `DataFrame`."
   ]
  },
  {
   "cell_type": "code",
   "execution_count": 33,
   "metadata": {
    "hideCode": false,
    "hidePrompt": false
   },
   "outputs": [
    {
     "data": {
      "text/plain": [
       "0        Access to electricity (% of population)\n",
       "1        Access to electricity (% of population)\n",
       "2        Access to electricity (% of population)\n",
       "3        Access to electricity (% of population)\n",
       "4        Access to electricity (% of population)\n",
       "                          ...                   \n",
       "59294                                        NaN\n",
       "59295                                        NaN\n",
       "59296                                        NaN\n",
       "59297                                        NaN\n",
       "59298                                        NaN\n",
       "Name: Series Name, Length: 59299, dtype: object"
      ]
     },
     "execution_count": 33,
     "metadata": {},
     "output_type": "execute_result"
    }
   ],
   "source": [
    "#type your code here\n",
    "df['Series Name']"
   ]
  },
  {
   "cell_type": "markdown",
   "metadata": {
    "hideCode": false,
    "hidePrompt": false
   },
   "source": [
    "<br/>\n",
    "\n",
    "Or `[[ ]]` for a `list` of columns."
   ]
  },
  {
   "cell_type": "code",
   "execution_count": 34,
   "metadata": {
    "hideCode": false,
    "hidePrompt": false
   },
   "outputs": [
    {
     "data": {
      "text/html": [
       "<div>\n",
       "<style scoped>\n",
       "    .dataframe tbody tr th:only-of-type {\n",
       "        vertical-align: middle;\n",
       "    }\n",
       "\n",
       "    .dataframe tbody tr th {\n",
       "        vertical-align: top;\n",
       "    }\n",
       "\n",
       "    .dataframe thead th {\n",
       "        text-align: right;\n",
       "    }\n",
       "</style>\n",
       "<table border=\"1\" class=\"dataframe\">\n",
       "  <thead>\n",
       "    <tr style=\"text-align: right;\">\n",
       "      <th></th>\n",
       "      <th>Series Name</th>\n",
       "      <th>Continent</th>\n",
       "    </tr>\n",
       "  </thead>\n",
       "  <tbody>\n",
       "    <tr>\n",
       "      <th>0</th>\n",
       "      <td>Access to electricity (% of population)</td>\n",
       "      <td>World</td>\n",
       "    </tr>\n",
       "    <tr>\n",
       "      <th>1</th>\n",
       "      <td>Access to electricity (% of population)</td>\n",
       "      <td>World</td>\n",
       "    </tr>\n",
       "    <tr>\n",
       "      <th>2</th>\n",
       "      <td>Access to electricity (% of population)</td>\n",
       "      <td>World</td>\n",
       "    </tr>\n",
       "    <tr>\n",
       "      <th>3</th>\n",
       "      <td>Access to electricity (% of population)</td>\n",
       "      <td>World</td>\n",
       "    </tr>\n",
       "    <tr>\n",
       "      <th>4</th>\n",
       "      <td>Access to electricity (% of population)</td>\n",
       "      <td>World</td>\n",
       "    </tr>\n",
       "    <tr>\n",
       "      <th>...</th>\n",
       "      <td>...</td>\n",
       "      <td>...</td>\n",
       "    </tr>\n",
       "    <tr>\n",
       "      <th>59294</th>\n",
       "      <td>NaN</td>\n",
       "      <td>NaN</td>\n",
       "    </tr>\n",
       "    <tr>\n",
       "      <th>59295</th>\n",
       "      <td>NaN</td>\n",
       "      <td>NaN</td>\n",
       "    </tr>\n",
       "    <tr>\n",
       "      <th>59296</th>\n",
       "      <td>NaN</td>\n",
       "      <td>NaN</td>\n",
       "    </tr>\n",
       "    <tr>\n",
       "      <th>59297</th>\n",
       "      <td>NaN</td>\n",
       "      <td>NaN</td>\n",
       "    </tr>\n",
       "    <tr>\n",
       "      <th>59298</th>\n",
       "      <td>NaN</td>\n",
       "      <td>NaN</td>\n",
       "    </tr>\n",
       "  </tbody>\n",
       "</table>\n",
       "<p>59299 rows × 2 columns</p>\n",
       "</div>"
      ],
      "text/plain": [
       "                                   Series Name Continent\n",
       "0      Access to electricity (% of population)     World\n",
       "1      Access to electricity (% of population)     World\n",
       "2      Access to electricity (% of population)     World\n",
       "3      Access to electricity (% of population)     World\n",
       "4      Access to electricity (% of population)     World\n",
       "...                                        ...       ...\n",
       "59294                                      NaN       NaN\n",
       "59295                                      NaN       NaN\n",
       "59296                                      NaN       NaN\n",
       "59297                                      NaN       NaN\n",
       "59298                                      NaN       NaN\n",
       "\n",
       "[59299 rows x 2 columns]"
      ]
     },
     "execution_count": 34,
     "metadata": {},
     "output_type": "execute_result"
    }
   ],
   "source": [
    "#type your code here\n",
    "df[['Series Name','Continent']]"
   ]
  },
  {
   "cell_type": "markdown",
   "metadata": {
    "hideCode": false,
    "hidePrompt": false
   },
   "source": [
    "Pandas `Series` are pretty much like `list`s wrapped inside a fancy dictionary. And, so we can select a specific value by using the indexing operator once more, for example lets address the first observation fo the column `Country Name`."
   ]
  },
  {
   "cell_type": "code",
   "execution_count": 35,
   "metadata": {
    "hideCode": false,
    "hidePrompt": false
   },
   "outputs": [
    {
     "data": {
      "text/plain": [
       "'World'"
      ]
     },
     "execution_count": 35,
     "metadata": {},
     "output_type": "execute_result"
    }
   ],
   "source": [
    "#type your code here\n",
    "df['Country Name'][0]"
   ]
  },
  {
   "cell_type": "markdown",
   "metadata": {
    "hideCode": false,
    "hidePrompt": false
   },
   "source": [
    "<hr>\n",
    "<hr>\n",
    "\n",
    "<b>Summarizing:</b> As inherit forms from Python naitive objects we have <b>two</b> ways to select columns,  by <b>attribute</b> of the <code>DataFrame</code> or by <b>key</b> of the <code>dictionary</code> we can select specific <code>Series</code> out of a <code>DataFrame</code>. Neither of them is more or less syntactically valid than the other, but the indexing operator <code>[]</code> does have the advantage that it can handle column names with reserved characters in them (e.g. columns names separated by blank spaces such as <code>Country Name</code>, since <code>data.Country Name</code> would not work!)\n",
    "\n",
    "<hr>\n",
    "<hr>\n",
    "\n"
   ]
  },
  {
   "cell_type": "markdown",
   "metadata": {
    "hideCode": false,
    "hidePrompt": false
   },
   "source": [
    "<br>\n",
    "\n",
    "<hr>\n",
    "\n",
    "#### Exercise\n",
    "<hr>\n",
    "\n",
    "Can you select element 4 of the same `Series`? "
   ]
  },
  {
   "cell_type": "code",
   "execution_count": 36,
   "metadata": {
    "hideCode": false,
    "hidePrompt": false
   },
   "outputs": [
    {
     "data": {
      "text/plain": [
       "0    World\n",
       "1    World\n",
       "2    World\n",
       "3    World\n",
       "4    World\n",
       "Name: Country Name, dtype: object"
      ]
     },
     "execution_count": 36,
     "metadata": {},
     "output_type": "execute_result"
    }
   ],
   "source": [
    "#Type your code here\n",
    "df['Country Name'].head()"
   ]
  },
  {
   "cell_type": "markdown",
   "metadata": {
    "hideCode": false,
    "hidePrompt": false
   },
   "source": [
    "<br/>\n",
    "\n",
    "### 4.2 [Indexing using pandas syntaxis](#III.II)\n",
    "<a id=\"III.II\"></a>\n",
    "<br/>\n",
    "\n",
    "Pandas has its own accessor operatos, `loc[ ]` and `iloc[ ]`. For more advanced operations, these are the ones you are supposed to be using.\n",
    "\n",
    "\n",
    "<br/>"
   ]
  },
  {
   "cell_type": "markdown",
   "metadata": {
    "hideCode": false,
    "hidePrompt": false
   },
   "source": [
    "#### 4.2.1 Index-based selection `iloc[ ]`\n",
    "\n",
    "<br/>\n",
    "\n",
    "In pandas we have two paradigms for indexing. The first one we will review is the **index-based selection**. This simply means that we will be selecting data based on its numerical position in the `DataFrame` (as we did when we review `list`s). For this first paradigm we use the method `iloc[]`. \n",
    "\n",
    "To select the **first row** of our data `DataFrame`, we can do the follwoing."
   ]
  },
  {
   "cell_type": "code",
<<<<<<< Updated upstream
   "execution_count": 37,
=======
   "execution_count": 41,
>>>>>>> Stashed changes
   "metadata": {
    "hideCode": false,
    "hidePrompt": false
   },
   "outputs": [
    {
     "data": {
      "text/plain": [
       "Country Name                                      World\n",
       "Country Code                                        WLD\n",
       "Series Name     Access to electricity (% of population)\n",
       "Time                                               2000\n",
<<<<<<< Updated upstream
       "value                                         77.723095\n",
=======
       "value                                           77.7231\n",
>>>>>>> Stashed changes
       "Continent                                         World\n",
       "Name: 0, dtype: object"
      ]
     },
<<<<<<< Updated upstream
     "execution_count": 37,
=======
     "execution_count": 41,
>>>>>>> Stashed changes
     "metadata": {},
     "output_type": "execute_result"
    }
   ],
   "source": [
    "#type your code here\n",
    "df.iloc[0]"
   ]
  },
  {
   "cell_type": "markdown",
   "metadata": {
    "hideCode": false,
    "hidePrompt": false
   },
   "source": [
    "This is returning a `Series` where the values of it are the first row of data in our `DataFrame`. And the `index` of them are the `column_names` of our `DataFrame`.\n",
    "\n",
    "Both `loc[]` and `iloc[]` are **row-first, column-second**. Please, note that this is the opposite of what we do in naitive Python, which is column-first, row-second.\n",
    "\n",
    "This means that using pandas accessors it is marginally easier to retrieve rows, and marginally harder to retrieve columns.\n",
    "\n",
    "To get a column by using `iloc[]` method we will need to specify two arguments `iloc[rows,columns]`.For example, lets select the column `Continent` using its numerical position on the data `DataFrame`."
   ]
  },
  {
   "cell_type": "code",
<<<<<<< Updated upstream
   "execution_count": 38,
   "metadata": {},
   "outputs": [
    {
     "data": {
      "text/html": [
       "<div>\n",
       "<style scoped>\n",
       "    .dataframe tbody tr th:only-of-type {\n",
       "        vertical-align: middle;\n",
       "    }\n",
       "\n",
       "    .dataframe tbody tr th {\n",
       "        vertical-align: top;\n",
       "    }\n",
       "\n",
       "    .dataframe thead th {\n",
       "        text-align: right;\n",
       "    }\n",
       "</style>\n",
       "<table border=\"1\" class=\"dataframe\">\n",
       "  <thead>\n",
       "    <tr style=\"text-align: right;\">\n",
       "      <th></th>\n",
       "      <th>Country Name</th>\n",
       "      <th>Country Code</th>\n",
       "      <th>Series Name</th>\n",
       "      <th>Time</th>\n",
       "      <th>value</th>\n",
       "      <th>Continent</th>\n",
       "    </tr>\n",
       "  </thead>\n",
       "  <tbody>\n",
       "    <tr>\n",
       "      <th>0</th>\n",
       "      <td>World</td>\n",
       "      <td>WLD</td>\n",
       "      <td>Access to electricity (% of population)</td>\n",
       "      <td>2000</td>\n",
       "      <td>77.723095</td>\n",
       "      <td>World</td>\n",
       "    </tr>\n",
       "    <tr>\n",
       "      <th>1</th>\n",
       "      <td>World</td>\n",
       "      <td>WLD</td>\n",
       "      <td>Access to electricity (% of population)</td>\n",
       "      <td>2001</td>\n",
       "      <td>77.287755</td>\n",
       "      <td>World</td>\n",
       "    </tr>\n",
       "    <tr>\n",
       "      <th>2</th>\n",
       "      <td>World</td>\n",
       "      <td>WLD</td>\n",
       "      <td>Access to electricity (% of population)</td>\n",
       "      <td>2002</td>\n",
       "      <td>78.819271</td>\n",
       "      <td>World</td>\n",
       "    </tr>\n",
       "    <tr>\n",
       "      <th>3</th>\n",
       "      <td>World</td>\n",
       "      <td>WLD</td>\n",
       "      <td>Access to electricity (% of population)</td>\n",
       "      <td>2003</td>\n",
       "      <td>79.454090</td>\n",
       "      <td>World</td>\n",
       "    </tr>\n",
       "    <tr>\n",
       "      <th>4</th>\n",
       "      <td>World</td>\n",
       "      <td>WLD</td>\n",
       "      <td>Access to electricity (% of population)</td>\n",
       "      <td>2004</td>\n",
       "      <td>79.682255</td>\n",
       "      <td>World</td>\n",
       "    </tr>\n",
       "  </tbody>\n",
       "</table>\n",
       "</div>"
      ],
      "text/plain": [
       "  Country Name Country Code                              Series Name  Time  \\\n",
       "0        World          WLD  Access to electricity (% of population)  2000   \n",
       "1        World          WLD  Access to electricity (% of population)  2001   \n",
       "2        World          WLD  Access to electricity (% of population)  2002   \n",
       "3        World          WLD  Access to electricity (% of population)  2003   \n",
       "4        World          WLD  Access to electricity (% of population)  2004   \n",
       "\n",
       "       value Continent  \n",
       "0  77.723095     World  \n",
       "1  77.287755     World  \n",
       "2  78.819271     World  \n",
       "3  79.454090     World  \n",
       "4  79.682255     World  "
      ]
     },
     "execution_count": 38,
     "metadata": {},
     "output_type": "execute_result"
    }
   ],
   "source": [
    "df.head()"
   ]
  },
  {
   "cell_type": "code",
   "execution_count": 39,
=======
   "execution_count": 43,
>>>>>>> Stashed changes
   "metadata": {
    "hideCode": false,
    "hidePrompt": false
   },
   "outputs": [
    {
     "data": {
      "text/plain": [
       "0        77.723095\n",
       "1        77.287755\n",
       "2        78.819271\n",
       "3        79.454090\n",
       "4        79.682255\n",
       "           ...    \n",
       "59294          NaN\n",
       "59295          NaN\n",
       "59296          NaN\n",
       "59297          NaN\n",
       "59298          NaN\n",
       "Name: value, Length: 59299, dtype: float64"
      ]
     },
<<<<<<< Updated upstream
     "execution_count": 39,
=======
     "execution_count": 43,
>>>>>>> Stashed changes
     "metadata": {},
     "output_type": "execute_result"
    }
   ],
   "source": [
    "#type your code here\n",
<<<<<<< Updated upstream
    "# all rows, column 4\n",
=======
    "# all values from column 4\n",
>>>>>>> Stashed changes
    "df.iloc[:,4]"
   ]
  },
  {
   "cell_type": "markdown",
   "metadata": {
    "hideCode": false,
    "hidePrompt": false
   },
   "source": [
    "This is returning a `Series` where the values of it are the **first column** of data in our `DataFrame`. And the `index` of them are the `row_labels` of our `DataFrame`.\n",
    "\n",
    "The operator `:` also comes from naitive Python and it **means \"everything\"**. When combinded with other selectors, it can be used to indicate a range of values. For example, to select the `Continent` column but just the first three rows we can do the following."
   ]
  },
  {
   "cell_type": "code",
<<<<<<< Updated upstream
   "execution_count": 40,
=======
   "execution_count": 44,
>>>>>>> Stashed changes
   "metadata": {
    "hideCode": false,
    "hidePrompt": false
   },
   "outputs": [
    {
     "data": {
      "text/plain": [
       "0    77.723095\n",
       "1    77.287755\n",
       "2    78.819271\n",
       "Name: value, dtype: float64"
      ]
     },
<<<<<<< Updated upstream
     "execution_count": 40,
=======
     "execution_count": 44,
>>>>>>> Stashed changes
     "metadata": {},
     "output_type": "execute_result"
    }
   ],
   "source": [
    "#type your code here\n",
    "df.iloc[:3,4]"
   ]
  },
  {
   "cell_type": "markdown",
   "metadata": {
    "hideCode": false,
    "hidePrompt": false
   },
   "source": [
    "Or to select just the from the same column rows 10 to 13."
   ]
  },
  {
   "cell_type": "code",
<<<<<<< Updated upstream
   "execution_count": 41,
=======
   "execution_count": 45,
>>>>>>> Stashed changes
   "metadata": {
    "hideCode": false,
    "hidePrompt": false
   },
   "outputs": [
    {
     "data": {
      "text/plain": [
       "10    83.536681\n",
       "11    82.502300\n",
       "12    85.068582\n",
       "13    85.188118\n",
       "Name: value, dtype: float64"
      ]
     },
<<<<<<< Updated upstream
     "execution_count": 41,
=======
     "execution_count": 45,
>>>>>>> Stashed changes
     "metadata": {},
     "output_type": "execute_result"
    }
   ],
   "source": [
    "#type your code here\n",
    "df.iloc[10:14,4]"
<<<<<<< Updated upstream
   ]
  },
  {
   "cell_type": "code",
   "execution_count": 42,
   "metadata": {},
   "outputs": [
    {
     "data": {
      "text/plain": [
       "10           ..\n",
       "11           ..\n",
       "12     6.825787\n",
       "13    13.375245\n",
       "Name: 2000 [YR2000], dtype: object"
      ]
     },
     "execution_count": 42,
     "metadata": {},
     "output_type": "execute_result"
    }
   ],
   "source": [
    "raw_data_2.reset_index().iloc[10:14,4]"
=======
>>>>>>> Stashed changes
   ]
  },
  {
   "cell_type": "markdown",
   "metadata": {
    "hideCode": false,
    "hidePrompt": false
   },
   "source": [
    "<div class=\"alert alert-block alert-info\">\n",
    "    <b>Note:</b>  I introduced a new method of pandas <code>DataFrame</code>s that is  <code>reset_index()</code>. This new method allows us to reset the <code>row_labels</code>, recall that when we imported the data we asked the <code>index</code> to be equal to the <code>Country Code</code>. For presentation purposes in the code above I present the <code>row_labels</code> as 0, 1, 2, 3, ...  so it is clearer what the <code>iloc[10:14,1]</code> method is doing (also pay attention that now <code>Continent</code> column is the fifth one since the first position was occupied by <code>Country Code</code>).\n",
    "</div>\n",
    "\n",
    "\n",
    "It is also possible to pass a list to `iloc[]` method."
   ]
  },
  {
   "cell_type": "code",
<<<<<<< Updated upstream
   "execution_count": 43,
=======
   "execution_count": 48,
>>>>>>> Stashed changes
   "metadata": {
    "hideCode": false,
    "hidePrompt": false
   },
   "outputs": [
    {
     "data": {
      "text/plain": [
<<<<<<< Updated upstream
       "0     100\n",
       "10     ..\n",
       "20     ..\n",
       "Name: 2000 [YR2000], dtype: object"
      ]
     },
     "execution_count": 43,
=======
       "Country Code\n",
       "AUT    Austria\n",
       "AUT    Austria\n",
       "AUT    Austria\n",
       "Name: Country Name, dtype: object"
      ]
     },
     "execution_count": 48,
>>>>>>> Stashed changes
     "metadata": {},
     "output_type": "execute_result"
    }
   ],
   "source": [
    "#type your code here\n",
<<<<<<< Updated upstream
    "raw_data_2.reset_index().iloc[[0,10,20],4]"
=======
    "raw_data.iloc[[0,10,20],0]"
>>>>>>> Stashed changes
   ]
  },
  {
   "cell_type": "markdown",
   "metadata": {
    "hideCode": false,
    "hidePrompt": false
   },
   "source": [
    "As a final note to this **index-based selection** it is worth knowning that it is also posible to use negative numbers. This makes the `iloc[]` method to start counting forwards from the *end* of the values. So for example here are the last five elements of our dataset."
   ]
  },
  {
   "cell_type": "code",
   "execution_count": 44,
   "metadata": {
    "hideCode": false,
    "hidePrompt": false
   },
   "outputs": [
    {
     "data": {
      "text/html": [
       "<div>\n",
       "<style scoped>\n",
       "    .dataframe tbody tr th:only-of-type {\n",
       "        vertical-align: middle;\n",
       "    }\n",
       "\n",
       "    .dataframe tbody tr th {\n",
       "        vertical-align: top;\n",
       "    }\n",
       "\n",
       "    .dataframe thead th {\n",
       "        text-align: right;\n",
       "    }\n",
       "</style>\n",
       "<table border=\"1\" class=\"dataframe\">\n",
       "  <thead>\n",
       "    <tr style=\"text-align: right;\">\n",
       "      <th></th>\n",
       "      <th>Country Name</th>\n",
       "      <th>Country Code</th>\n",
       "      <th>Series Name</th>\n",
       "      <th>Time</th>\n",
       "      <th>value</th>\n",
       "      <th>Continent</th>\n",
       "    </tr>\n",
       "  </thead>\n",
       "  <tbody>\n",
       "    <tr>\n",
       "      <th>59294</th>\n",
       "      <td>NaN</td>\n",
       "      <td>NaN</td>\n",
       "      <td>NaN</td>\n",
       "      <td>2017</td>\n",
       "      <td>NaN</td>\n",
       "      <td>NaN</td>\n",
       "    </tr>\n",
       "    <tr>\n",
       "      <th>59295</th>\n",
       "      <td>NaN</td>\n",
       "      <td>NaN</td>\n",
       "      <td>NaN</td>\n",
       "      <td>2017</td>\n",
       "      <td>NaN</td>\n",
       "      <td>NaN</td>\n",
       "    </tr>\n",
       "    <tr>\n",
       "      <th>59296</th>\n",
       "      <td>NaN</td>\n",
       "      <td>NaN</td>\n",
       "      <td>NaN</td>\n",
       "      <td>2018</td>\n",
       "      <td>NaN</td>\n",
       "      <td>NaN</td>\n",
       "    </tr>\n",
       "    <tr>\n",
       "      <th>59297</th>\n",
       "      <td>NaN</td>\n",
       "      <td>NaN</td>\n",
       "      <td>NaN</td>\n",
       "      <td>2018</td>\n",
       "      <td>NaN</td>\n",
       "      <td>NaN</td>\n",
       "    </tr>\n",
       "    <tr>\n",
       "      <th>59298</th>\n",
       "      <td>NaN</td>\n",
       "      <td>NaN</td>\n",
       "      <td>NaN</td>\n",
       "      <td>2018</td>\n",
       "      <td>NaN</td>\n",
       "      <td>NaN</td>\n",
       "    </tr>\n",
       "  </tbody>\n",
       "</table>\n",
       "</div>"
      ],
      "text/plain": [
       "      Country Name Country Code Series Name  Time  value Continent\n",
       "59294          NaN          NaN         NaN  2017    NaN       NaN\n",
       "59295          NaN          NaN         NaN  2017    NaN       NaN\n",
       "59296          NaN          NaN         NaN  2018    NaN       NaN\n",
       "59297          NaN          NaN         NaN  2018    NaN       NaN\n",
       "59298          NaN          NaN         NaN  2018    NaN       NaN"
      ]
     },
     "execution_count": 44,
     "metadata": {},
     "output_type": "execute_result"
    }
   ],
   "source": [
    "#type your code here\n",
    "aux = df.iloc[-5:]\n",
    "aux"
   ]
  },
  {
   "cell_type": "code",
   "execution_count": 45,
   "metadata": {},
   "outputs": [
    {
     "data": {
      "text/html": [
       "<div>\n",
       "<style scoped>\n",
       "    .dataframe tbody tr th:only-of-type {\n",
       "        vertical-align: middle;\n",
       "    }\n",
       "\n",
       "    .dataframe tbody tr th {\n",
       "        vertical-align: top;\n",
       "    }\n",
       "\n",
       "    .dataframe thead th {\n",
       "        text-align: right;\n",
       "    }\n",
       "</style>\n",
       "<table border=\"1\" class=\"dataframe\">\n",
       "  <thead>\n",
       "    <tr style=\"text-align: right;\">\n",
       "      <th></th>\n",
       "      <th>Country Name</th>\n",
       "      <th>Country Code</th>\n",
       "      <th>Series Name</th>\n",
       "      <th>Time</th>\n",
       "      <th>value</th>\n",
       "      <th>Continent</th>\n",
       "    </tr>\n",
       "  </thead>\n",
       "  <tbody>\n",
       "    <tr>\n",
       "      <th>59294</th>\n",
       "      <td>NaN</td>\n",
       "      <td>NaN</td>\n",
       "      <td>NaN</td>\n",
       "      <td>2017</td>\n",
       "      <td>NaN</td>\n",
       "      <td>NaN</td>\n",
       "    </tr>\n",
       "    <tr>\n",
       "      <th>59295</th>\n",
       "      <td>NaN</td>\n",
       "      <td>NaN</td>\n",
       "      <td>NaN</td>\n",
       "      <td>2017</td>\n",
       "      <td>NaN</td>\n",
       "      <td>NaN</td>\n",
       "    </tr>\n",
       "    <tr>\n",
       "      <th>59296</th>\n",
       "      <td>NaN</td>\n",
       "      <td>NaN</td>\n",
       "      <td>NaN</td>\n",
       "      <td>2018</td>\n",
       "      <td>NaN</td>\n",
       "      <td>NaN</td>\n",
       "    </tr>\n",
       "    <tr>\n",
       "      <th>59297</th>\n",
       "      <td>NaN</td>\n",
       "      <td>NaN</td>\n",
       "      <td>NaN</td>\n",
       "      <td>2018</td>\n",
       "      <td>NaN</td>\n",
       "      <td>NaN</td>\n",
       "    </tr>\n",
       "    <tr>\n",
       "      <th>59298</th>\n",
       "      <td>NaN</td>\n",
       "      <td>NaN</td>\n",
       "      <td>NaN</td>\n",
       "      <td>2018</td>\n",
       "      <td>NaN</td>\n",
       "      <td>NaN</td>\n",
       "    </tr>\n",
       "  </tbody>\n",
       "</table>\n",
       "</div>"
      ],
      "text/plain": [
       "      Country Name Country Code Series Name  Time  value Continent\n",
       "59294          NaN          NaN         NaN  2017    NaN       NaN\n",
       "59295          NaN          NaN         NaN  2017    NaN       NaN\n",
       "59296          NaN          NaN         NaN  2018    NaN       NaN\n",
       "59297          NaN          NaN         NaN  2018    NaN       NaN\n",
       "59298          NaN          NaN         NaN  2018    NaN       NaN"
      ]
     },
     "execution_count": 45,
     "metadata": {},
     "output_type": "execute_result"
    }
   ],
   "source": [
    "aux = df.tail()\n",
    "aux"
   ]
  },
  {
   "cell_type": "markdown",
   "metadata": {
    "hideCode": false,
    "hidePrompt": false
   },
   "source": [
    "<br/>\n",
    "\n",
    "#### 4.2.2 Label-based selection `loc[ ]`\n",
    "\n",
    "<br/>\n",
    "\n",
    "The second paradigm in pandas accesses to `DataFrame`s is the one followed by the `loc[ ]` method. In this paradigm, it's the data **index value**, not its position, which matters.\n",
    "\n",
    "For example, as befor lets address the first observation fo the column `Continent`.\n",
    "\n",
    "<br/>"
   ]
  },
  {
   "cell_type": "code",
   "execution_count": 58,
   "metadata": {},
   "outputs": [],
   "source": [
    "df1 = df.set_index('Continent').copy()"
   ]
  },
  {
   "cell_type": "code",
   "execution_count": 61,
   "metadata": {},
   "outputs": [
    {
     "data": {
      "text/plain": [
       "Continent\n",
       "World    World\n",
       "World    World\n",
       "World    World\n",
       "World    World\n",
       "World    World\n",
       "         ...  \n",
       "World    World\n",
       "World    World\n",
       "World    World\n",
       "World    World\n",
       "World    World\n",
       "Name: Country Name, Length: 1444, dtype: object"
      ]
     },
     "execution_count": 61,
     "metadata": {},
     "output_type": "execute_result"
    }
   ],
   "source": [
    "df1.iloc[0,0]\n",
    "# df1.loc[0, 'Country Name']\n",
    "df1.loc['World', 'Country Name']"
   ]
  },
  {
   "cell_type": "code",
   "execution_count": 57,
   "metadata": {
    "hideCode": false,
    "hidePrompt": false
   },
   "outputs": [
    {
     "data": {
      "text/plain": [
       "'World'"
      ]
     },
     "execution_count": 57,
     "metadata": {},
     "output_type": "execute_result"
    }
   ],
   "source": [
    "#type your code here\n",
    "df.iloc[0,0]\n",
    "# First element of the index, column Country Name\n",
    "df.loc[0, df.columns[0]]\n",
    "df.loc[0, 'Country Name']"
   ]
  },
  {
   "cell_type": "markdown",
   "metadata": {
    "hideCode": false,
    "hidePrompt": false
   },
   "source": [
    "<br/>\n",
    "\n",
    "#### 3.2.3 Differences between `loc[ ]`and `iloc[ ]`\n",
    "\n",
    "<br/>\n",
    "\n",
    "\n",
    "The two methods use different indexing schemes.\n",
    "\n",
    "`iloc[ ]` uses a scheme where the **first** element of the range is **included** and the **last** one is **excluded**. So, for example `.iloc[0:10]` will select entries 0,...,9. In contrast, `.loc[0:10]` indexes inclusively, so will output entries 0,...,10.\n",
    "\n",
    "This difference is due to the fact that `loc[ ]` is meant to work indexing strings. So for example this characteristic is very convenient when we need to index a dataframe (let it be called `df`) that contains index values such as fruits: `Apples,...,Potatoes,...,` and we want to select \"all the alphabetical fruit choices between Apples and Potatoes\". Then `df.loc['Apples':'Potatoes']` has a much more intuitive use than something like `df.loc['Apples':'Potatoet']` (t comes after s in the alphabet).\n",
    "\n",
    "Otherwise, the semantics and use of `loc[ ]` are the same as those for `iloc[ ]`\n",
    "\n",
    "<br/>"
   ]
  },
  {
   "cell_type": "markdown",
   "metadata": {
    "hideCode": false,
    "hidePrompt": false
   },
   "source": [
    "### 4.3 [Manipulating the index](#III.III)\n",
    "<a id=\"III.III\"></a>\n",
    "\n",
    "<br/>\n",
    "\n",
    "Label-based selection dervies its power from the lables in the index. So, we can manipulate the index in any way we see fit by using the method `set_index()`.\n",
    "\n",
    "For example, lets reset the index of our data. Remember that when first imported it we set the column `Time` as the new index. "
   ]
  },
  {
   "cell_type": "code",
   "execution_count": 62,
   "metadata": {
    "hideCode": false,
    "hidePrompt": false
   },
   "outputs": [
    {
     "data": {
      "text/html": [
       "<div>\n",
       "<style scoped>\n",
       "    .dataframe tbody tr th:only-of-type {\n",
       "        vertical-align: middle;\n",
       "    }\n",
       "\n",
       "    .dataframe tbody tr th {\n",
       "        vertical-align: top;\n",
       "    }\n",
       "\n",
       "    .dataframe thead th {\n",
       "        text-align: right;\n",
       "    }\n",
       "</style>\n",
       "<table border=\"1\" class=\"dataframe\">\n",
       "  <thead>\n",
       "    <tr style=\"text-align: right;\">\n",
       "      <th></th>\n",
       "      <th>Continent</th>\n",
       "      <th>Country Name</th>\n",
       "      <th>Country Code</th>\n",
       "      <th>Series Name</th>\n",
       "      <th>Time</th>\n",
       "      <th>value</th>\n",
       "    </tr>\n",
       "  </thead>\n",
       "  <tbody>\n",
       "    <tr>\n",
       "      <th>0</th>\n",
       "      <td>World</td>\n",
       "      <td>World</td>\n",
       "      <td>WLD</td>\n",
       "      <td>Access to electricity (% of population)</td>\n",
       "      <td>2000</td>\n",
       "      <td>77.723095</td>\n",
       "    </tr>\n",
       "    <tr>\n",
       "      <th>1</th>\n",
       "      <td>World</td>\n",
       "      <td>World</td>\n",
       "      <td>WLD</td>\n",
       "      <td>Access to electricity (% of population)</td>\n",
       "      <td>2001</td>\n",
       "      <td>77.287755</td>\n",
       "    </tr>\n",
       "    <tr>\n",
       "      <th>2</th>\n",
       "      <td>World</td>\n",
       "      <td>World</td>\n",
       "      <td>WLD</td>\n",
       "      <td>Access to electricity (% of population)</td>\n",
       "      <td>2002</td>\n",
       "      <td>78.819271</td>\n",
       "    </tr>\n",
       "    <tr>\n",
       "      <th>3</th>\n",
       "      <td>World</td>\n",
       "      <td>World</td>\n",
       "      <td>WLD</td>\n",
       "      <td>Access to electricity (% of population)</td>\n",
       "      <td>2003</td>\n",
       "      <td>79.454090</td>\n",
       "    </tr>\n",
       "    <tr>\n",
       "      <th>4</th>\n",
       "      <td>World</td>\n",
       "      <td>World</td>\n",
       "      <td>WLD</td>\n",
       "      <td>Access to electricity (% of population)</td>\n",
       "      <td>2004</td>\n",
       "      <td>79.682255</td>\n",
       "    </tr>\n",
       "  </tbody>\n",
       "</table>\n",
       "</div>"
      ],
      "text/plain": [
       "  Continent Country Name Country Code  \\\n",
       "0     World        World          WLD   \n",
       "1     World        World          WLD   \n",
       "2     World        World          WLD   \n",
       "3     World        World          WLD   \n",
       "4     World        World          WLD   \n",
       "\n",
       "                               Series Name  Time      value  \n",
       "0  Access to electricity (% of population)  2000  77.723095  \n",
       "1  Access to electricity (% of population)  2001  77.287755  \n",
       "2  Access to electricity (% of population)  2002  78.819271  \n",
       "3  Access to electricity (% of population)  2003  79.454090  \n",
       "4  Access to electricity (% of population)  2004  79.682255  "
      ]
     },
     "execution_count": 62,
     "metadata": {},
     "output_type": "execute_result"
    }
   ],
   "source": [
    "#type your code here\n",
    "df1.reset_index().head()"
   ]
  },
  {
   "cell_type": "markdown",
   "metadata": {
    "hideCode": false,
    "hidePrompt": false
   },
   "source": [
    "<br/>\n",
    "\n",
    "### 4.4 [Conditional Selection](#III.VI)\n",
    "<a id=\"III.VI\"></a>\n",
    "\n",
    "<br/>\n",
    "\n",
    "\n",
    "This type of selection works well for **asking interesting questions** to our data. In particular, it helps to *ask* questions based on conditions.\n",
    "\n",
    "For example, suppose that for some reason we are interested in all european countries that have an average GDP of the period higher than 1,000,000,000,000 (or $10^{12}$).\n",
    "\n",
    "First, we need to check if each observation has the column `Continent` equal to **Europe**.\n",
    "\n"
   ]
  },
  {
   "cell_type": "code",
   "execution_count": 65,
   "metadata": {},
   "outputs": [
    {
     "data": {
      "text/plain": [
       "Europe         37544\n",
       "America         7220\n",
       "Asia            5776\n",
       "Middle East     4332\n",
       "Oceania         1444\n",
       "Africa          1444\n",
       "World           1444\n",
       "Name: Continent, dtype: int64"
      ]
     },
     "execution_count": 65,
     "metadata": {},
     "output_type": "execute_result"
    }
   ],
   "source": [
    "df.Continent.value_counts()"
   ]
  },
  {
   "cell_type": "code",
   "execution_count": 69,
   "metadata": {
    "hideCode": false,
    "hidePrompt": false,
    "scrolled": true
   },
   "outputs": [
    {
     "data": {
      "text/plain": [
       "pandas.core.series.Series"
      ]
     },
     "execution_count": 69,
     "metadata": {},
     "output_type": "execute_result"
    }
   ],
   "source": [
    "#type your code here\n",
    "continent_condition = df['Continent'] == 'Europe'\n",
    "type(continent_condition)"
   ]
  },
  {
   "cell_type": "code",
   "execution_count": 72,
   "metadata": {},
   "outputs": [
    {
     "data": {
      "text/html": [
       "<div>\n",
       "<style scoped>\n",
       "    .dataframe tbody tr th:only-of-type {\n",
       "        vertical-align: middle;\n",
       "    }\n",
       "\n",
       "    .dataframe tbody tr th {\n",
       "        vertical-align: top;\n",
       "    }\n",
       "\n",
       "    .dataframe thead th {\n",
       "        text-align: right;\n",
       "    }\n",
       "</style>\n",
       "<table border=\"1\" class=\"dataframe\">\n",
       "  <thead>\n",
       "    <tr style=\"text-align: right;\">\n",
       "      <th></th>\n",
       "      <th>Country Name</th>\n",
       "      <th>Country Code</th>\n",
       "      <th>Series Name</th>\n",
       "      <th>Time</th>\n",
       "      <th>value</th>\n",
       "      <th>Continent</th>\n",
       "    </tr>\n",
       "  </thead>\n",
       "  <tbody>\n",
       "    <tr>\n",
       "      <th>2888</th>\n",
       "      <td>United Kingdom</td>\n",
       "      <td>GBR</td>\n",
       "      <td>Access to electricity (% of population)</td>\n",
       "      <td>2000</td>\n",
       "      <td>100.000000</td>\n",
       "      <td>Europe</td>\n",
       "    </tr>\n",
       "    <tr>\n",
       "      <th>2889</th>\n",
       "      <td>United Kingdom</td>\n",
       "      <td>GBR</td>\n",
       "      <td>Access to electricity (% of population)</td>\n",
       "      <td>2001</td>\n",
       "      <td>100.000000</td>\n",
       "      <td>Europe</td>\n",
       "    </tr>\n",
       "    <tr>\n",
       "      <th>2890</th>\n",
       "      <td>United Kingdom</td>\n",
       "      <td>GBR</td>\n",
       "      <td>Access to electricity (% of population)</td>\n",
       "      <td>2002</td>\n",
       "      <td>100.000000</td>\n",
       "      <td>Europe</td>\n",
       "    </tr>\n",
       "    <tr>\n",
       "      <th>2891</th>\n",
       "      <td>United Kingdom</td>\n",
       "      <td>GBR</td>\n",
       "      <td>Access to electricity (% of population)</td>\n",
       "      <td>2003</td>\n",
       "      <td>100.000000</td>\n",
       "      <td>Europe</td>\n",
       "    </tr>\n",
       "    <tr>\n",
       "      <th>2892</th>\n",
       "      <td>United Kingdom</td>\n",
       "      <td>GBR</td>\n",
       "      <td>Access to electricity (% of population)</td>\n",
       "      <td>2004</td>\n",
       "      <td>100.000000</td>\n",
       "      <td>Europe</td>\n",
       "    </tr>\n",
       "    <tr>\n",
       "      <th>...</th>\n",
       "      <td>...</td>\n",
       "      <td>...</td>\n",
       "      <td>...</td>\n",
       "      <td>...</td>\n",
       "      <td>...</td>\n",
       "      <td>...</td>\n",
       "    </tr>\n",
       "    <tr>\n",
       "      <th>59237</th>\n",
       "      <td>Austria</td>\n",
       "      <td>AUT</td>\n",
       "      <td>Tax revenue (% of GDP)</td>\n",
       "      <td>2014</td>\n",
       "      <td>26.417898</td>\n",
       "      <td>Europe</td>\n",
       "    </tr>\n",
       "    <tr>\n",
       "      <th>59238</th>\n",
       "      <td>Austria</td>\n",
       "      <td>AUT</td>\n",
       "      <td>Tax revenue (% of GDP)</td>\n",
       "      <td>2015</td>\n",
       "      <td>26.827003</td>\n",
       "      <td>Europe</td>\n",
       "    </tr>\n",
       "    <tr>\n",
       "      <th>59239</th>\n",
       "      <td>Austria</td>\n",
       "      <td>AUT</td>\n",
       "      <td>Tax revenue (% of GDP)</td>\n",
       "      <td>2016</td>\n",
       "      <td>25.516574</td>\n",
       "      <td>Europe</td>\n",
       "    </tr>\n",
       "    <tr>\n",
       "      <th>59240</th>\n",
       "      <td>Austria</td>\n",
       "      <td>AUT</td>\n",
       "      <td>Tax revenue (% of GDP)</td>\n",
       "      <td>2017</td>\n",
       "      <td>25.380106</td>\n",
       "      <td>Europe</td>\n",
       "    </tr>\n",
       "    <tr>\n",
       "      <th>59241</th>\n",
       "      <td>Austria</td>\n",
       "      <td>AUT</td>\n",
       "      <td>Tax revenue (% of GDP)</td>\n",
       "      <td>2018</td>\n",
       "      <td>NaN</td>\n",
       "      <td>Europe</td>\n",
       "    </tr>\n",
       "  </tbody>\n",
       "</table>\n",
       "<p>37544 rows × 6 columns</p>\n",
       "</div>"
      ],
      "text/plain": [
       "         Country Name Country Code                              Series Name  \\\n",
       "2888   United Kingdom          GBR  Access to electricity (% of population)   \n",
       "2889   United Kingdom          GBR  Access to electricity (% of population)   \n",
       "2890   United Kingdom          GBR  Access to electricity (% of population)   \n",
       "2891   United Kingdom          GBR  Access to electricity (% of population)   \n",
       "2892   United Kingdom          GBR  Access to electricity (% of population)   \n",
       "...               ...          ...                                      ...   \n",
       "59237         Austria          AUT                   Tax revenue (% of GDP)   \n",
       "59238         Austria          AUT                   Tax revenue (% of GDP)   \n",
       "59239         Austria          AUT                   Tax revenue (% of GDP)   \n",
       "59240         Austria          AUT                   Tax revenue (% of GDP)   \n",
       "59241         Austria          AUT                   Tax revenue (% of GDP)   \n",
       "\n",
       "       Time       value Continent  \n",
       "2888   2000  100.000000    Europe  \n",
       "2889   2001  100.000000    Europe  \n",
       "2890   2002  100.000000    Europe  \n",
       "2891   2003  100.000000    Europe  \n",
       "2892   2004  100.000000    Europe  \n",
       "...     ...         ...       ...  \n",
       "59237  2014   26.417898    Europe  \n",
       "59238  2015   26.827003    Europe  \n",
       "59239  2016   25.516574    Europe  \n",
       "59240  2017   25.380106    Europe  \n",
       "59241  2018         NaN    Europe  \n",
       "\n",
       "[37544 rows x 6 columns]"
      ]
     },
     "execution_count": 72,
     "metadata": {},
     "output_type": "execute_result"
    }
   ],
   "source": [
    "# Selecting all rows where Continent  == Europe\n",
    "# Dataframe.loc[rows, columns] if columns is not specified outputs all the columns\n",
    "df.loc[continent_condition]"
   ]
  },
  {
   "cell_type": "code",
   "execution_count": 76,
   "metadata": {},
   "outputs": [],
   "source": [
    "# 'GDP (constant 2010 US$)'\n",
    "gdp_condition = df['Series Name'] == 'GDP (constant 2010 US$)'"
   ]
  },
  {
   "cell_type": "code",
   "execution_count": 77,
   "metadata": {},
   "outputs": [
    {
     "data": {
      "text/html": [
       "<div>\n",
       "<style scoped>\n",
       "    .dataframe tbody tr th:only-of-type {\n",
       "        vertical-align: middle;\n",
       "    }\n",
       "\n",
       "    .dataframe tbody tr th {\n",
       "        vertical-align: top;\n",
       "    }\n",
       "\n",
       "    .dataframe thead th {\n",
       "        text-align: right;\n",
       "    }\n",
       "</style>\n",
       "<table border=\"1\" class=\"dataframe\">\n",
       "  <thead>\n",
       "    <tr style=\"text-align: right;\">\n",
       "      <th></th>\n",
       "      <th>Country Name</th>\n",
       "      <th>Country Code</th>\n",
       "      <th>Series Name</th>\n",
       "      <th>Time</th>\n",
       "      <th>value</th>\n",
       "      <th>Continent</th>\n",
       "    </tr>\n",
       "  </thead>\n",
       "  <tbody>\n",
       "    <tr>\n",
       "      <th>3515</th>\n",
       "      <td>United Kingdom</td>\n",
       "      <td>GBR</td>\n",
       "      <td>GDP (constant 2010 US$)</td>\n",
       "      <td>2000</td>\n",
       "      <td>2.095205e+12</td>\n",
       "      <td>Europe</td>\n",
       "    </tr>\n",
       "    <tr>\n",
       "      <th>3516</th>\n",
       "      <td>United Kingdom</td>\n",
       "      <td>GBR</td>\n",
       "      <td>GDP (constant 2010 US$)</td>\n",
       "      <td>2001</td>\n",
       "      <td>2.148510e+12</td>\n",
       "      <td>Europe</td>\n",
       "    </tr>\n",
       "    <tr>\n",
       "      <th>3517</th>\n",
       "      <td>United Kingdom</td>\n",
       "      <td>GBR</td>\n",
       "      <td>GDP (constant 2010 US$)</td>\n",
       "      <td>2002</td>\n",
       "      <td>2.201318e+12</td>\n",
       "      <td>Europe</td>\n",
       "    </tr>\n",
       "    <tr>\n",
       "      <th>3518</th>\n",
       "      <td>United Kingdom</td>\n",
       "      <td>GBR</td>\n",
       "      <td>GDP (constant 2010 US$)</td>\n",
       "      <td>2003</td>\n",
       "      <td>2.274532e+12</td>\n",
       "      <td>Europe</td>\n",
       "    </tr>\n",
       "    <tr>\n",
       "      <th>3519</th>\n",
       "      <td>United Kingdom</td>\n",
       "      <td>GBR</td>\n",
       "      <td>GDP (constant 2010 US$)</td>\n",
       "      <td>2004</td>\n",
       "      <td>2.328312e+12</td>\n",
       "      <td>Europe</td>\n",
       "    </tr>\n",
       "    <tr>\n",
       "      <th>...</th>\n",
       "      <td>...</td>\n",
       "      <td>...</td>\n",
       "      <td>...</td>\n",
       "      <td>...</td>\n",
       "      <td>...</td>\n",
       "      <td>...</td>\n",
       "    </tr>\n",
       "    <tr>\n",
       "      <th>58439</th>\n",
       "      <td>Austria</td>\n",
       "      <td>AUT</td>\n",
       "      <td>GDP (constant 2010 US$)</td>\n",
       "      <td>2014</td>\n",
       "      <td>4.088812e+11</td>\n",
       "      <td>Europe</td>\n",
       "    </tr>\n",
       "    <tr>\n",
       "      <th>58440</th>\n",
       "      <td>Austria</td>\n",
       "      <td>AUT</td>\n",
       "      <td>GDP (constant 2010 US$)</td>\n",
       "      <td>2015</td>\n",
       "      <td>4.135546e+11</td>\n",
       "      <td>Europe</td>\n",
       "    </tr>\n",
       "    <tr>\n",
       "      <th>58441</th>\n",
       "      <td>Austria</td>\n",
       "      <td>AUT</td>\n",
       "      <td>GDP (constant 2010 US$)</td>\n",
       "      <td>2016</td>\n",
       "      <td>4.219894e+11</td>\n",
       "      <td>Europe</td>\n",
       "    </tr>\n",
       "    <tr>\n",
       "      <th>58442</th>\n",
       "      <td>Austria</td>\n",
       "      <td>AUT</td>\n",
       "      <td>GDP (constant 2010 US$)</td>\n",
       "      <td>2017</td>\n",
       "      <td>4.327538e+11</td>\n",
       "      <td>Europe</td>\n",
       "    </tr>\n",
       "    <tr>\n",
       "      <th>58443</th>\n",
       "      <td>Austria</td>\n",
       "      <td>AUT</td>\n",
       "      <td>GDP (constant 2010 US$)</td>\n",
       "      <td>2018</td>\n",
       "      <td>NaN</td>\n",
       "      <td>Europe</td>\n",
       "    </tr>\n",
       "  </tbody>\n",
       "</table>\n",
       "<p>494 rows × 6 columns</p>\n",
       "</div>"
      ],
      "text/plain": [
       "         Country Name Country Code              Series Name  Time  \\\n",
       "3515   United Kingdom          GBR  GDP (constant 2010 US$)  2000   \n",
       "3516   United Kingdom          GBR  GDP (constant 2010 US$)  2001   \n",
       "3517   United Kingdom          GBR  GDP (constant 2010 US$)  2002   \n",
       "3518   United Kingdom          GBR  GDP (constant 2010 US$)  2003   \n",
       "3519   United Kingdom          GBR  GDP (constant 2010 US$)  2004   \n",
       "...               ...          ...                      ...   ...   \n",
       "58439         Austria          AUT  GDP (constant 2010 US$)  2014   \n",
       "58440         Austria          AUT  GDP (constant 2010 US$)  2015   \n",
       "58441         Austria          AUT  GDP (constant 2010 US$)  2016   \n",
       "58442         Austria          AUT  GDP (constant 2010 US$)  2017   \n",
       "58443         Austria          AUT  GDP (constant 2010 US$)  2018   \n",
       "\n",
       "              value Continent  \n",
       "3515   2.095205e+12    Europe  \n",
       "3516   2.148510e+12    Europe  \n",
       "3517   2.201318e+12    Europe  \n",
       "3518   2.274532e+12    Europe  \n",
       "3519   2.328312e+12    Europe  \n",
       "...             ...       ...  \n",
       "58439  4.088812e+11    Europe  \n",
       "58440  4.135546e+11    Europe  \n",
       "58441  4.219894e+11    Europe  \n",
       "58442  4.327538e+11    Europe  \n",
       "58443           NaN    Europe  \n",
       "\n",
       "[494 rows x 6 columns]"
      ]
     },
     "execution_count": 77,
     "metadata": {},
     "output_type": "execute_result"
    }
   ],
   "source": [
    "df.loc[continent_condition & gdp_condition]"
   ]
  },
  {
   "cell_type": "code",
   "execution_count": 78,
   "metadata": {},
   "outputs": [],
   "source": [
    "value_condition = df['value'] > 10**12"
   ]
  },
  {
   "cell_type": "code",
   "execution_count": 80,
   "metadata": {},
   "outputs": [
    {
     "data": {
      "text/plain": [
       "627       True\n",
       "628       True\n",
       "629       True\n",
       "630       True\n",
       "631       True\n",
       "         ...  \n",
       "58439    False\n",
       "58440    False\n",
       "58441    False\n",
       "58442    False\n",
       "58443    False\n",
       "Name: value, Length: 779, dtype: bool"
      ]
     },
     "execution_count": 80,
     "metadata": {},
     "output_type": "execute_result"
    }
   ],
   "source": [
    "new_series = df.loc[gdp_condition, 'value']\n",
    "final_cond = new_series > 10**12\n",
    "final_cond"
   ]
  },
  {
   "cell_type": "code",
   "execution_count": 82,
   "metadata": {},
   "outputs": [
    {
     "data": {
      "text/html": [
       "<div>\n",
       "<style scoped>\n",
       "    .dataframe tbody tr th:only-of-type {\n",
       "        vertical-align: middle;\n",
       "    }\n",
       "\n",
       "    .dataframe tbody tr th {\n",
       "        vertical-align: top;\n",
       "    }\n",
       "\n",
       "    .dataframe thead th {\n",
       "        text-align: right;\n",
       "    }\n",
       "</style>\n",
       "<table border=\"1\" class=\"dataframe\">\n",
       "  <thead>\n",
       "    <tr style=\"text-align: right;\">\n",
       "      <th></th>\n",
       "      <th>Country Name</th>\n",
       "      <th>Country Code</th>\n",
       "      <th>Series Name</th>\n",
       "      <th>Time</th>\n",
       "      <th>value</th>\n",
       "      <th>Continent</th>\n",
       "    </tr>\n",
       "  </thead>\n",
       "  <tbody>\n",
       "    <tr>\n",
       "      <th>3515</th>\n",
       "      <td>United Kingdom</td>\n",
       "      <td>GBR</td>\n",
       "      <td>GDP (constant 2010 US$)</td>\n",
       "      <td>2000</td>\n",
       "      <td>2.095205e+12</td>\n",
       "      <td>Europe</td>\n",
       "    </tr>\n",
       "    <tr>\n",
       "      <th>3516</th>\n",
       "      <td>United Kingdom</td>\n",
       "      <td>GBR</td>\n",
       "      <td>GDP (constant 2010 US$)</td>\n",
       "      <td>2001</td>\n",
       "      <td>2.148510e+12</td>\n",
       "      <td>Europe</td>\n",
       "    </tr>\n",
       "    <tr>\n",
       "      <th>3517</th>\n",
       "      <td>United Kingdom</td>\n",
       "      <td>GBR</td>\n",
       "      <td>GDP (constant 2010 US$)</td>\n",
       "      <td>2002</td>\n",
       "      <td>2.201318e+12</td>\n",
       "      <td>Europe</td>\n",
       "    </tr>\n",
       "    <tr>\n",
       "      <th>3518</th>\n",
       "      <td>United Kingdom</td>\n",
       "      <td>GBR</td>\n",
       "      <td>GDP (constant 2010 US$)</td>\n",
       "      <td>2003</td>\n",
       "      <td>2.274532e+12</td>\n",
       "      <td>Europe</td>\n",
       "    </tr>\n",
       "    <tr>\n",
       "      <th>3519</th>\n",
       "      <td>United Kingdom</td>\n",
       "      <td>GBR</td>\n",
       "      <td>GDP (constant 2010 US$)</td>\n",
       "      <td>2004</td>\n",
       "      <td>2.328312e+12</td>\n",
       "      <td>Europe</td>\n",
       "    </tr>\n",
       "    <tr>\n",
       "      <th>...</th>\n",
       "      <td>...</td>\n",
       "      <td>...</td>\n",
       "      <td>...</td>\n",
       "      <td>...</td>\n",
       "      <td>...</td>\n",
       "      <td>...</td>\n",
       "    </tr>\n",
       "    <tr>\n",
       "      <th>46867</th>\n",
       "      <td>European Union</td>\n",
       "      <td>EUU</td>\n",
       "      <td>GDP (constant 2010 US$)</td>\n",
       "      <td>2013</td>\n",
       "      <td>1.728385e+13</td>\n",
       "      <td>Europe</td>\n",
       "    </tr>\n",
       "    <tr>\n",
       "      <th>46868</th>\n",
       "      <td>European Union</td>\n",
       "      <td>EUU</td>\n",
       "      <td>GDP (constant 2010 US$)</td>\n",
       "      <td>2014</td>\n",
       "      <td>1.759224e+13</td>\n",
       "      <td>Europe</td>\n",
       "    </tr>\n",
       "    <tr>\n",
       "      <th>46869</th>\n",
       "      <td>European Union</td>\n",
       "      <td>EUU</td>\n",
       "      <td>GDP (constant 2010 US$)</td>\n",
       "      <td>2015</td>\n",
       "      <td>1.800532e+13</td>\n",
       "      <td>Europe</td>\n",
       "    </tr>\n",
       "    <tr>\n",
       "      <th>46870</th>\n",
       "      <td>European Union</td>\n",
       "      <td>EUU</td>\n",
       "      <td>GDP (constant 2010 US$)</td>\n",
       "      <td>2016</td>\n",
       "      <td>1.837311e+13</td>\n",
       "      <td>Europe</td>\n",
       "    </tr>\n",
       "    <tr>\n",
       "      <th>46871</th>\n",
       "      <td>European Union</td>\n",
       "      <td>EUU</td>\n",
       "      <td>GDP (constant 2010 US$)</td>\n",
       "      <td>2017</td>\n",
       "      <td>1.882427e+13</td>\n",
       "      <td>Europe</td>\n",
       "    </tr>\n",
       "  </tbody>\n",
       "</table>\n",
       "<p>108 rows × 6 columns</p>\n",
       "</div>"
      ],
      "text/plain": [
       "         Country Name Country Code              Series Name  Time  \\\n",
       "3515   United Kingdom          GBR  GDP (constant 2010 US$)  2000   \n",
       "3516   United Kingdom          GBR  GDP (constant 2010 US$)  2001   \n",
       "3517   United Kingdom          GBR  GDP (constant 2010 US$)  2002   \n",
       "3518   United Kingdom          GBR  GDP (constant 2010 US$)  2003   \n",
       "3519   United Kingdom          GBR  GDP (constant 2010 US$)  2004   \n",
       "...               ...          ...                      ...   ...   \n",
       "46867  European Union          EUU  GDP (constant 2010 US$)  2013   \n",
       "46868  European Union          EUU  GDP (constant 2010 US$)  2014   \n",
       "46869  European Union          EUU  GDP (constant 2010 US$)  2015   \n",
       "46870  European Union          EUU  GDP (constant 2010 US$)  2016   \n",
       "46871  European Union          EUU  GDP (constant 2010 US$)  2017   \n",
       "\n",
       "              value Continent  \n",
       "3515   2.095205e+12    Europe  \n",
       "3516   2.148510e+12    Europe  \n",
       "3517   2.201318e+12    Europe  \n",
       "3518   2.274532e+12    Europe  \n",
       "3519   2.328312e+12    Europe  \n",
       "...             ...       ...  \n",
       "46867  1.728385e+13    Europe  \n",
       "46868  1.759224e+13    Europe  \n",
       "46869  1.800532e+13    Europe  \n",
       "46870  1.837311e+13    Europe  \n",
       "46871  1.882427e+13    Europe  \n",
       "\n",
       "[108 rows x 6 columns]"
      ]
     },
     "execution_count": 82,
     "metadata": {},
     "output_type": "execute_result"
    }
   ],
   "source": [
    "df.loc[(continent_condition)&(final_cond)]"
   ]
  },
  {
   "cell_type": "markdown",
   "metadata": {
    "hideCode": false,
    "hidePrompt": false
   },
   "source": [
    "This operation produced a `Series`of `True/False` booleans based on the continent of each record. This result can be used inside the `.loc[]` method to select the relevant data."
   ]
  },
  {
   "cell_type": "markdown",
   "metadata": {
    "hideCode": false,
    "hidePrompt": false
   },
   "source": [
    "The resulting `DataFrame` has $\\sim 37 k$ rows. The original had $\\sim 59 k$. Means that around $66\\%$ of the observations has the `Continent` column equal to **`Europe`**.\n",
    "\n",
    "We also wanted to know which ones have an average GDP higher than 1,000,000,000,000. For this purpose, I will present a new method: `Series.mean()`. This method and others that allow us to generate summary statistics will be reviewed further in detail.\n",
    "\n",
    "To implement the second condition we need to:\n",
    "\n",
    "1. extract the `Series` with the values of the Gross Domestic Product (it is called `GDP (constant 2010 US$)`\n",
    "2. compare the `value` in the `Series` with the desired one ($10^{12}$)\n"
   ]
  },
  {
   "cell_type": "markdown",
   "metadata": {
    "hideCode": false,
    "hidePrompt": false
   },
   "source": [
    "Then we can use the ampersand (`&`) symbol to bring the two questions together."
   ]
  },
  {
   "cell_type": "code",
   "execution_count": 84,
   "metadata": {},
   "outputs": [
    {
     "data": {
      "text/plain": [
       "array(['United Kingdom', 'Spain', 'Italy', 'Germany', 'France',\n",
       "       'European Union'], dtype=object)"
      ]
     },
     "execution_count": 84,
     "metadata": {},
     "output_type": "execute_result"
    }
   ],
   "source": [
    "df.loc[continent_condition & gdp_condition & value_condition]['Country Name'].unique()"
   ]
  },
  {
   "cell_type": "markdown",
   "metadata": {
    "hideCode": false,
    "hidePrompt": false
   },
   "source": [
    "Suppose we want to select any observations in which the continent is equal to Europe *or* the GDP is above the threshold mentioned aboved. For this we use the pipe (`|`) symbol."
   ]
  },
  {
   "cell_type": "code",
   "execution_count": 85,
   "metadata": {
    "hideCode": false,
    "hidePrompt": false
   },
   "outputs": [
    {
     "data": {
      "text/plain": [
       "array(['World', 'United States', 'United Kingdom', 'Turkey', 'Sweden',\n",
       "       'Sub-Saharan Africa', 'Spain', 'South Asia', 'Slovenia',\n",
       "       'Slovak Republic', 'Portugal', 'Poland', 'Norway', 'Netherlands',\n",
       "       'Middle East & North Africa', 'Mexico', 'Luxembourg', 'Lithuania',\n",
       "       'Latvia', 'Latin America & Caribbean', 'Korea, Rep.', 'Japan',\n",
       "       'Italy', 'Ireland', 'Iceland', 'Hungary', 'Greece', 'Germany',\n",
       "       'France', 'Finland', 'European Union', 'Estonia', 'Denmark',\n",
       "       'Czech Republic', 'China', 'Brazil', 'Belgium', 'Austria'],\n",
       "      dtype=object)"
      ]
     },
     "execution_count": 85,
     "metadata": {},
     "output_type": "execute_result"
    }
   ],
   "source": [
    "#type your code here\n",
    "df.loc[(continent_condition)|(final_cond), 'Country Name'].unique()"
   ]
  },
  {
   "cell_type": "markdown",
   "metadata": {
    "hideCode": false,
    "hidePrompt": false
   },
   "source": [
    "<br/>\n",
    "\n",
    "#### 3.3.1 Pandas built-in conditional selectors `.isin([])` and `.isnull()`\n",
    "\n",
    "<br/>\n",
    "\n",
    "Pandas comes with a few built-in conditional selectors. In this section we presented two of them.\n",
    "\n",
    "`.isin([])` helps to select data whose value \"is in\" a **list of values**. For example, we can use it to select observations from the [G7 countries](https://www.investopedia.com/terms/g/g5.asp). \n",
    "\n",
    "Such countries are **United States**, the **United Kingdom**, **Canada**, **Germany**, **Japan**, **Italy**, **France**, and, until recently, Russia. In 2014, Russia was suspended indefinitely from the group after annexing Crimea, an autonomous republic of Ukraine. As a result, the G8 is now often referred to as the **G7**.\n",
    "\n"
   ]
  },
  {
   "cell_type": "code",
   "execution_count": 87,
   "metadata": {
    "hideCode": false,
    "hidePrompt": false
   },
   "outputs": [
    {
     "data": {
      "text/plain": [
       "0        False\n",
       "1        False\n",
       "2        False\n",
       "3        False\n",
       "4        False\n",
       "         ...  \n",
       "59294    False\n",
       "59295    False\n",
       "59296    False\n",
       "59297    False\n",
       "59298    False\n",
       "Name: Country Name, Length: 59299, dtype: bool"
      ]
     },
     "execution_count": 87,
     "metadata": {},
     "output_type": "execute_result"
    }
   ],
   "source": [
    "# We could also define this as a new condition\n",
    "df['Country Name'].isin(['United States','United Kingdom', \n",
    "                         'Canada','Germany','Japan','Italy','France'])"
   ]
  },
  {
   "cell_type": "code",
   "execution_count": 88,
   "metadata": {},
   "outputs": [
    {
     "data": {
      "text/html": [
       "<div>\n",
       "<style scoped>\n",
       "    .dataframe tbody tr th:only-of-type {\n",
       "        vertical-align: middle;\n",
       "    }\n",
       "\n",
       "    .dataframe tbody tr th {\n",
       "        vertical-align: top;\n",
       "    }\n",
       "\n",
       "    .dataframe thead th {\n",
       "        text-align: right;\n",
       "    }\n",
       "</style>\n",
       "<table border=\"1\" class=\"dataframe\">\n",
       "  <thead>\n",
       "    <tr style=\"text-align: right;\">\n",
       "      <th></th>\n",
       "      <th>Country Name</th>\n",
       "      <th>Country Code</th>\n",
       "      <th>Series Name</th>\n",
       "      <th>Time</th>\n",
       "      <th>value</th>\n",
       "      <th>Continent</th>\n",
       "    </tr>\n",
       "  </thead>\n",
       "  <tbody>\n",
       "    <tr>\n",
       "      <th>1444</th>\n",
       "      <td>United States</td>\n",
       "      <td>USA</td>\n",
       "      <td>Access to electricity (% of population)</td>\n",
       "      <td>2000</td>\n",
       "      <td>100.000000</td>\n",
       "      <td>America</td>\n",
       "    </tr>\n",
       "    <tr>\n",
       "      <th>1445</th>\n",
       "      <td>United States</td>\n",
       "      <td>USA</td>\n",
       "      <td>Access to electricity (% of population)</td>\n",
       "      <td>2001</td>\n",
       "      <td>100.000000</td>\n",
       "      <td>America</td>\n",
       "    </tr>\n",
       "    <tr>\n",
       "      <th>1446</th>\n",
       "      <td>United States</td>\n",
       "      <td>USA</td>\n",
       "      <td>Access to electricity (% of population)</td>\n",
       "      <td>2002</td>\n",
       "      <td>100.000000</td>\n",
       "      <td>America</td>\n",
       "    </tr>\n",
       "    <tr>\n",
       "      <th>1447</th>\n",
       "      <td>United States</td>\n",
       "      <td>USA</td>\n",
       "      <td>Access to electricity (% of population)</td>\n",
       "      <td>2003</td>\n",
       "      <td>100.000000</td>\n",
       "      <td>America</td>\n",
       "    </tr>\n",
       "    <tr>\n",
       "      <th>1448</th>\n",
       "      <td>United States</td>\n",
       "      <td>USA</td>\n",
       "      <td>Access to electricity (% of population)</td>\n",
       "      <td>2004</td>\n",
       "      <td>100.000000</td>\n",
       "      <td>America</td>\n",
       "    </tr>\n",
       "    <tr>\n",
       "      <th>...</th>\n",
       "      <td>...</td>\n",
       "      <td>...</td>\n",
       "      <td>...</td>\n",
       "      <td>...</td>\n",
       "      <td>...</td>\n",
       "      <td>...</td>\n",
       "    </tr>\n",
       "    <tr>\n",
       "      <th>44778</th>\n",
       "      <td>France</td>\n",
       "      <td>FRA</td>\n",
       "      <td>Tax revenue (% of GDP)</td>\n",
       "      <td>2014</td>\n",
       "      <td>23.317898</td>\n",
       "      <td>Europe</td>\n",
       "    </tr>\n",
       "    <tr>\n",
       "      <th>44779</th>\n",
       "      <td>France</td>\n",
       "      <td>FRA</td>\n",
       "      <td>Tax revenue (% of GDP)</td>\n",
       "      <td>2015</td>\n",
       "      <td>23.360468</td>\n",
       "      <td>Europe</td>\n",
       "    </tr>\n",
       "    <tr>\n",
       "      <th>44780</th>\n",
       "      <td>France</td>\n",
       "      <td>FRA</td>\n",
       "      <td>Tax revenue (% of GDP)</td>\n",
       "      <td>2016</td>\n",
       "      <td>23.262741</td>\n",
       "      <td>Europe</td>\n",
       "    </tr>\n",
       "    <tr>\n",
       "      <th>44781</th>\n",
       "      <td>France</td>\n",
       "      <td>FRA</td>\n",
       "      <td>Tax revenue (% of GDP)</td>\n",
       "      <td>2017</td>\n",
       "      <td>23.840983</td>\n",
       "      <td>Europe</td>\n",
       "    </tr>\n",
       "    <tr>\n",
       "      <th>44782</th>\n",
       "      <td>France</td>\n",
       "      <td>FRA</td>\n",
       "      <td>Tax revenue (% of GDP)</td>\n",
       "      <td>2018</td>\n",
       "      <td>NaN</td>\n",
       "      <td>Europe</td>\n",
       "    </tr>\n",
       "  </tbody>\n",
       "</table>\n",
       "<p>8664 rows × 6 columns</p>\n",
       "</div>"
      ],
      "text/plain": [
       "        Country Name Country Code                              Series Name  \\\n",
       "1444   United States          USA  Access to electricity (% of population)   \n",
       "1445   United States          USA  Access to electricity (% of population)   \n",
       "1446   United States          USA  Access to electricity (% of population)   \n",
       "1447   United States          USA  Access to electricity (% of population)   \n",
       "1448   United States          USA  Access to electricity (% of population)   \n",
       "...              ...          ...                                      ...   \n",
       "44778         France          FRA                   Tax revenue (% of GDP)   \n",
       "44779         France          FRA                   Tax revenue (% of GDP)   \n",
       "44780         France          FRA                   Tax revenue (% of GDP)   \n",
       "44781         France          FRA                   Tax revenue (% of GDP)   \n",
       "44782         France          FRA                   Tax revenue (% of GDP)   \n",
       "\n",
       "       Time       value Continent  \n",
       "1444   2000  100.000000   America  \n",
       "1445   2001  100.000000   America  \n",
       "1446   2002  100.000000   America  \n",
       "1447   2003  100.000000   America  \n",
       "1448   2004  100.000000   America  \n",
       "...     ...         ...       ...  \n",
       "44778  2014   23.317898    Europe  \n",
       "44779  2015   23.360468    Europe  \n",
       "44780  2016   23.262741    Europe  \n",
       "44781  2017   23.840983    Europe  \n",
       "44782  2018         NaN    Europe  \n",
       "\n",
       "[8664 rows x 6 columns]"
      ]
     },
     "execution_count": 88,
     "metadata": {},
     "output_type": "execute_result"
    }
   ],
   "source": [
    "df.loc[df['Country Name'].isin(['United States','United Kingdom', \n",
    "                         'Canada','Germany','Japan','Italy','France'])]"
   ]
  },
  {
   "cell_type": "markdown",
   "metadata": {
    "hideCode": false,
    "hidePrompt": false
   },
   "source": [
    "`.isnull()` (and its counterpart `.notnull()`) let you highlight values which are (or are not) empty (`NaN`). \n",
    "\n",
    "For example, lets filter out all rows that contain missing values for `Series Name`. Here is how we do it by using this operator."
   ]
  },
  {
   "cell_type": "code",
   "execution_count": 94,
   "metadata": {
    "hideCode": false,
    "hidePrompt": false
   },
   "outputs": [
    {
     "data": {
      "text/html": [
       "<div>\n",
       "<style scoped>\n",
       "    .dataframe tbody tr th:only-of-type {\n",
       "        vertical-align: middle;\n",
       "    }\n",
       "\n",
       "    .dataframe tbody tr th {\n",
       "        vertical-align: top;\n",
       "    }\n",
       "\n",
       "    .dataframe thead th {\n",
       "        text-align: right;\n",
       "    }\n",
       "</style>\n",
       "<table border=\"1\" class=\"dataframe\">\n",
       "  <thead>\n",
       "    <tr style=\"text-align: right;\">\n",
       "      <th></th>\n",
       "      <th>Country Code</th>\n",
       "      <th>Continent</th>\n",
       "    </tr>\n",
       "  </thead>\n",
       "  <tbody>\n",
       "    <tr>\n",
       "      <th>0</th>\n",
       "      <td>WLD</td>\n",
       "      <td>World</td>\n",
       "    </tr>\n",
       "    <tr>\n",
       "      <th>1</th>\n",
       "      <td>WLD</td>\n",
       "      <td>World</td>\n",
       "    </tr>\n",
       "    <tr>\n",
       "      <th>2</th>\n",
       "      <td>WLD</td>\n",
       "      <td>World</td>\n",
       "    </tr>\n",
       "    <tr>\n",
       "      <th>3</th>\n",
       "      <td>WLD</td>\n",
       "      <td>World</td>\n",
       "    </tr>\n",
       "    <tr>\n",
       "      <th>4</th>\n",
       "      <td>WLD</td>\n",
       "      <td>World</td>\n",
       "    </tr>\n",
       "    <tr>\n",
       "      <th>...</th>\n",
       "      <td>...</td>\n",
       "      <td>...</td>\n",
       "    </tr>\n",
       "    <tr>\n",
       "      <th>59236</th>\n",
       "      <td>AUT</td>\n",
       "      <td>Europe</td>\n",
       "    </tr>\n",
       "    <tr>\n",
       "      <th>59237</th>\n",
       "      <td>AUT</td>\n",
       "      <td>Europe</td>\n",
       "    </tr>\n",
       "    <tr>\n",
       "      <th>59238</th>\n",
       "      <td>AUT</td>\n",
       "      <td>Europe</td>\n",
       "    </tr>\n",
       "    <tr>\n",
       "      <th>59239</th>\n",
       "      <td>AUT</td>\n",
       "      <td>Europe</td>\n",
       "    </tr>\n",
       "    <tr>\n",
       "      <th>59240</th>\n",
       "      <td>AUT</td>\n",
       "      <td>Europe</td>\n",
       "    </tr>\n",
       "  </tbody>\n",
       "</table>\n",
       "<p>42408 rows × 2 columns</p>\n",
       "</div>"
      ],
      "text/plain": [
       "      Country Code Continent\n",
       "0              WLD     World\n",
       "1              WLD     World\n",
       "2              WLD     World\n",
       "3              WLD     World\n",
       "4              WLD     World\n",
       "...            ...       ...\n",
       "59236          AUT    Europe\n",
       "59237          AUT    Europe\n",
       "59238          AUT    Europe\n",
       "59239          AUT    Europe\n",
       "59240          AUT    Europe\n",
       "\n",
       "[42408 rows x 2 columns]"
      ]
     },
     "execution_count": 94,
     "metadata": {},
     "output_type": "execute_result"
    }
   ],
   "source": [
    "#type your code here\n",
    "df.loc[df.value.notnull(), ['Country Code', 'Continent']]"
   ]
  },
  {
   "cell_type": "markdown",
   "metadata": {
    "hideCode": false,
    "hidePrompt": false
   },
   "source": [
    "The original dataset contains $\\sim 59k$ entries. When filtered out all missing values we stay with $\\sim 42k$ registers.\n",
    "\n",
    "For concluding this section, let me stress out that I used operator `.loc[:,'Series Name']` that returns exactly the same `Series` that the one you can get by using the native Python operator `data['Series Name']`. \n",
    "\n",
    "In the following lines of code I will be changing indistinctly between those two ways of selection. Just to emphasize that they produce exactly the same output (when outputing a `Series`). Note that `.loc[]` additionally let us to perform the type of **conditional selection** that we reviewed during this section.\n",
    "\n",
    "<br/>\n",
    "\n"
   ]
  },
  {
   "cell_type": "markdown",
   "metadata": {
    "hideCode": false,
    "hidePrompt": false
   },
   "source": [
    "### 4.5 [Assigning data](#III.V)\n",
    "<a id=\"III.V\"></a>\n",
    "\n",
    "<br/>\n",
    "\n",
    "Assigning data to a `Series` of column of a `DataFrame` is easy. It is possible to assign either a constant value:"
   ]
  },
  {
   "cell_type": "code",
   "execution_count": null,
   "metadata": {
    "hideCode": false,
    "hidePrompt": false
   },
   "outputs": [],
   "source": [
    "#type your code here\n",
    "df['']"
   ]
  },
  {
   "cell_type": "markdown",
   "metadata": {
    "hideCode": false,
    "hidePrompt": false
   },
   "source": [
    "Or iterable values, such as:"
   ]
  },
  {
   "cell_type": "markdown",
   "metadata": {
    "hideCode": false,
    "hidePrompt": false
   },
   "source": [
    "For concluding this section, please note that the code above is using two native Python function `range()` and `len()`. The first one outputs an object that produces a sequence of integers from start (inclusive)\n",
    "to stop (exclusive) by step. The second one simply returns the number of items in the object (recall that `DataFrame` is always rows first columns second). Lastly, you can always review what a Python method does by asking after its name."
   ]
  },
  {
   "cell_type": "code",
   "execution_count": 95,
   "metadata": {
    "hideCode": false,
    "hidePrompt": false
   },
   "outputs": [
    {
     "data": {
      "text/plain": [
       "0        59299\n",
       "1        59298\n",
       "2        59297\n",
       "3        59296\n",
       "4        59295\n",
       "         ...  \n",
       "59294        5\n",
       "59295        4\n",
       "59296        3\n",
       "59297        2\n",
       "59298        1\n",
       "Name: reverse_index, Length: 59299, dtype: int32"
      ]
     },
     "execution_count": 95,
     "metadata": {},
     "output_type": "execute_result"
    }
   ],
   "source": [
    "#type your code here\n",
    "df['reverse_index']= range(df.shape[0], 0, -1)\n",
    "df['reverse_index']"
   ]
  },
  {
   "cell_type": "markdown",
   "metadata": {
    "hideCode": false,
    "hidePrompt": false
   },
   "source": [
    "## 5. [Summary Functions and Maps](#VI)\n",
    "<a id=\"VI\"></a>\n",
    "<br/>\n",
    "\n",
    "As data does not always come out of memory in the format we want it. Sometimes we need to do some more work ourselves to reformat it for the task at hand. In this section, we will be covering different opeartions that we can apply to our data to get the input \"just right\" for our models, presentations and so on. First lets see a group of functions that are usually and informally called *summary functions*.\n",
    "\n",
    "<br/>\n",
    "\n",
    "\n"
   ]
  },
  {
   "cell_type": "markdown",
   "metadata": {
    "hideCode": false,
    "hidePrompt": false
   },
   "source": [
    "### 5.1 [Summary functions](#VI.I)\n",
    "<a id=\"VI.I\"></a>\n",
    "<br/>\n",
    "\n",
    "Pandas provides many simple *summary functions* which helps when you need to restructure your data in some useful way. For example, consider the `.describe()` method."
   ]
  },
  {
   "cell_type": "code",
   "execution_count": 96,
   "metadata": {
    "hideCode": false,
    "hidePrompt": false
   },
   "outputs": [
    {
     "data": {
      "text/plain": [
       "count    4.240800e+04\n",
       "mean     1.191183e+11\n",
       "std      2.029393e+12\n",
       "min     -5.832288e+01\n",
       "25%      3.438833e+00\n",
       "50%      1.270000e+01\n",
       "75%      4.247420e+01\n",
       "max      8.025464e+13\n",
       "Name: value, dtype: float64"
      ]
     },
     "execution_count": 96,
     "metadata": {},
     "output_type": "execute_result"
    }
   ],
   "source": [
    "#type your code here\n",
    "df.value.describe()"
   ]
  },
  {
   "cell_type": "markdown",
   "metadata": {
    "hideCode": false,
    "hidePrompt": false
   },
   "source": [
    "This method generates a high-level summary of the attributes of the given column. It is **type-aware**, meaning that its output varies based on the data type of the column. The output above only makes sense for numerical data. In the case of string we get:"
   ]
  },
  {
   "cell_type": "code",
   "execution_count": 97,
   "metadata": {},
   "outputs": [
    {
     "data": {
      "text/plain": [
       "count          59242\n",
       "unique            43\n",
       "top       Luxembourg\n",
       "freq            1444\n",
       "Name: Country Name, dtype: object"
      ]
     },
     "execution_count": 97,
     "metadata": {},
     "output_type": "execute_result"
    }
   ],
   "source": [
    "df['Country Name'].describe()"
   ]
  },
  {
   "cell_type": "markdown",
   "metadata": {
    "hideCode": false,
    "hidePrompt": false
   },
   "source": [
    "It is possible to get a particular simple summary about a column in a `DataFrame` or a `Series`, most of the time there is a helpful pandas function that can make it happen.\n",
    "\n",
    "For example, to see the mean of the Portuguese *population*in the available period, we can use the method `.mean()`.\n",
    "\n",
    "To do so, we need to:\n",
    "\n",
    "1. select the rows where the `Series Name` is equal to `Population, total`\n",
    "2. select the rows where the `Country Name` is equal to `Portugal`\n",
    "3. extract `value` series\n",
    "4. apply the method mentioned before"
   ]
  },
  {
   "cell_type": "code",
   "execution_count": 102,
   "metadata": {
    "hideCode": false,
    "hidePrompt": false
   },
   "outputs": [
    {
     "data": {
      "text/plain": [
       "count    1.800000e+01\n",
       "mean     1.045542e+07\n",
       "std      9.610404e+04\n",
       "min      1.028990e+07\n",
       "25%      1.037231e+07\n",
       "50%      1.047134e+07\n",
       "75%      1.053780e+07\n",
       "max      1.057310e+07\n",
       "Name: value, dtype: float64"
      ]
     },
     "execution_count": 102,
     "metadata": {},
     "output_type": "execute_result"
    }
   ],
   "source": [
    "#type your code here\n",
    "df.loc[(df['Series Name'] == 'Population, total') & \n",
    "       (df['Country Name'] == 'Portugal'), 'value'].describe()"
   ]
  },
  {
   "cell_type": "markdown",
   "metadata": {
    "hideCode": false,
    "hidePrompt": false
   },
   "source": [
    "Other interesanting **method** of pandas `DataFrames` is `info()`. `info()` constructs a table that allow us to get the following information about the columns:\n",
    "+ name\n",
    "+ how many rows are non-null\n",
    "+ type"
   ]
  },
  {
   "cell_type": "code",
   "execution_count": 103,
   "metadata": {
    "hideCode": false,
    "hidePrompt": false
   },
   "outputs": [
    {
     "name": "stdout",
     "output_type": "stream",
     "text": [
      "<class 'pandas.core.frame.DataFrame'>\n",
      "RangeIndex: 59299 entries, 0 to 59298\n",
      "Data columns (total 7 columns):\n",
      " #   Column         Non-Null Count  Dtype  \n",
      "---  ------         --------------  -----  \n",
      " 0   Country Name   59242 non-null  object \n",
      " 1   Country Code   59204 non-null  object \n",
      " 2   Series Name    59204 non-null  object \n",
      " 3   Time           59299 non-null  int64  \n",
      " 4   value          42408 non-null  float64\n",
      " 5   Continent      59204 non-null  object \n",
      " 6   reverse_index  59299 non-null  int32  \n",
      "dtypes: float64(1), int32(1), int64(1), object(4)\n",
      "memory usage: 2.9+ MB\n"
     ]
    }
   ],
   "source": [
    "#type your code here\n",
    "df.info()"
   ]
  },
  {
   "cell_type": "markdown",
   "metadata": {
    "hideCode": false,
    "hidePrompt": false
   },
   "source": [
    "We will return on talking about null values and columns types in a while.\n",
    "\n",
    "<br/>\n",
    "\n",
    "#### 5.1.1 Finding unique values\n",
    "\n",
    "<br/>\n",
    "\n",
    "To see a list of unique values we can use the `.unique()` function.\n",
    "\n",
    "For example let's see the list of countries that this extraction has."
   ]
  },
  {
   "cell_type": "code",
   "execution_count": 105,
   "metadata": {
    "hideCode": false,
    "hidePrompt": false
   },
   "outputs": [
    {
     "data": {
      "text/plain": [
       "array(['World', 'United States', 'United Kingdom', 'Turkey', 'Sweden',\n",
       "       'Sub-Saharan Africa', 'Spain', 'South Asia', 'Slovenia',\n",
       "       'Slovak Republic', 'Portugal', 'Poland', 'Norway', 'New Zealand',\n",
       "       'Netherlands', 'Middle East & North Africa', 'Mexico',\n",
       "       'Luxembourg', 'Lithuania', 'Latvia', 'Latin America & Caribbean',\n",
       "       'Last Updated: 04/24/2019', 'Korea, Rep.', 'Japan', 'Italy',\n",
       "       'Israel', 'Ireland', 'Iceland', 'Hungary', 'Greece', 'Germany',\n",
       "       'France', 'Finland', 'European Union', 'Estonia', 'Denmark',\n",
       "       'Data from database: World Development Indicators',\n",
       "       'Czech Republic', 'China', 'Chile', 'Brazil', 'Belgium', 'Austria',\n",
       "       nan], dtype=object)"
      ]
     },
     "execution_count": 105,
     "metadata": {},
     "output_type": "execute_result"
    }
   ],
   "source": [
    "#type your code here\n",
    "df['Country Name'].unique()"
   ]
  },
  {
   "cell_type": "markdown",
   "metadata": {
    "hideCode": false,
    "hidePrompt": false
   },
   "source": [
    "<br/>\n",
    "\n",
    "#### 5.1.2 Counting unique values\n",
    "\n",
    "<br/>\n",
    "\n",
    "To see a list of values and how often they occur in a data set we can use `value_counts()` method. For example, let's see how many observations per year we have."
   ]
  },
  {
   "cell_type": "code",
   "execution_count": 106,
   "metadata": {
    "hideCode": false,
    "hidePrompt": false
   },
   "outputs": [
    {
     "data": {
      "text/plain": [
       "Luxembourg                                          1444\n",
       "Poland                                              1444\n",
       "France                                              1444\n",
       "Israel                                              1444\n",
       "Brazil                                              1444\n",
       "Estonia                                             1444\n",
       "Chile                                               1444\n",
       "Ireland                                             1444\n",
       "Latvia                                              1444\n",
       "United Kingdom                                      1444\n",
       "Belgium                                             1444\n",
       "Portugal                                            1444\n",
       "Middle East & North Africa                          1444\n",
       "Japan                                               1444\n",
       "Mexico                                              1444\n",
       "Lithuania                                           1444\n",
       "Netherlands                                         1444\n",
       "World                                               1444\n",
       "Italy                                               1444\n",
       "China                                               1444\n",
       "United States                                       1444\n",
       "Denmark                                             1444\n",
       "Germany                                             1444\n",
       "Spain                                               1444\n",
       "Slovenia                                            1444\n",
       "Sub-Saharan Africa                                  1444\n",
       "Finland                                             1444\n",
       "European Union                                      1444\n",
       "South Asia                                          1444\n",
       "Austria                                             1444\n",
       "Slovak Republic                                     1444\n",
       "Sweden                                              1444\n",
       "New Zealand                                         1444\n",
       "Latin America & Caribbean                           1444\n",
       "Czech Republic                                      1444\n",
       "Hungary                                             1444\n",
       "Turkey                                              1444\n",
       "Norway                                              1444\n",
       "Iceland                                             1444\n",
       "Greece                                              1444\n",
       "Korea, Rep.                                         1444\n",
       "Last Updated: 04/24/2019                              19\n",
       "Data from database: World Development Indicators      19\n",
       "Name: Country Name, dtype: int64"
      ]
     },
     "execution_count": 106,
     "metadata": {},
     "output_type": "execute_result"
    }
   ],
   "source": [
    "#type your code here\n",
    "df['Country Name'].value_counts()"
   ]
  },
  {
   "cell_type": "code",
   "execution_count": 109,
   "metadata": {},
   "outputs": [
    {
     "data": {
      "text/plain": [
       "Oceania        0.024390\n",
       "America        0.121951\n",
       "Asia           0.097561\n",
       "Africa         0.024390\n",
       "Middle East    0.073171\n",
       "World          0.024390\n",
       "Europe         0.634146\n",
       "Name: Continent, dtype: float64"
      ]
     },
     "execution_count": 109,
     "metadata": {},
     "output_type": "execute_result"
    }
   ],
   "source": [
    "# Gives us the percentage of each value in the total\n",
    "df['Continent'].value_counts(sort=False, normalize=True)"
   ]
  },
  {
   "cell_type": "code",
   "execution_count": 116,
   "metadata": {},
   "outputs": [
    {
     "data": {
      "text/plain": [
       "(-80254640718.69, 8025464065978.31]         0.713199\n",
       "(8025464065978.31, 16050928132014.943]      0.000776\n",
       "(16050928132014.943, 24076392198051.574]    0.000573\n",
       "(24076392198051.574, 32101856264088.207]    0.000000\n",
       "(32101856264088.207, 40127320330124.84]     0.000000\n",
       "(40127320330124.84, 48152784396161.48]      0.000000\n",
       "(48152784396161.48, 56178248462198.11]      0.000169\n",
       "(56178248462198.11, 64203712528234.74]      0.000135\n",
       "(64203712528234.74, 72229176594271.36]      0.000169\n",
       "(72229176594271.36, 80254640660308.0]       0.000135\n",
       "Name: value, dtype: float64"
      ]
     },
     "execution_count": 116,
     "metadata": {},
     "output_type": "execute_result"
    }
   ],
   "source": [
    "df['value'].value_counts(sort=False, normalize=True, bins=10)\n",
    "# help(pd.value_counts)"
   ]
  },
  {
   "cell_type": "markdown",
   "metadata": {
    "hideCode": false,
    "hidePrompt": false
   },
   "source": [
    "<br/>\n",
    "\n",
    "### 5.2 [Maps](#VI.II)\n",
    "<a id=\"VI.II\"></a>\n",
    "<br/>\n",
    "A **map** is a term borrowed from mathematics. It can be seen as a function that takes one set of values and \"maps\" them to another set of values. In data science we often need to create new representations from existing data, or transform data from the format we recieve it (for example from our operations team) to the format we want it to be later for models or business presentations. Maps are what handle this type of work.\n",
    "\n",
    "There are two mapping methods that you will often use.\n",
    "\n",
    "`map()` is slightly the simpler one. For example, suppose that we need to remean the GDP to 0. We can do it in the following way.\n",
    "\n",
    "Again to do so, we need to:\n",
    "\n",
    "1. select the rows where the `Series Name` is equal to `Population, total`\n",
    "2. select the rows where the `Country Name` is equal to `Portugal`\n",
    "3. extract `value` series\n",
    "4. apply the method mentioned before"
   ]
  },
  {
   "cell_type": "code",
   "execution_count": 120,
   "metadata": {
    "hideCode": false,
    "hidePrompt": false
   },
   "outputs": [
    {
     "data": {
      "text/plain": [
       "10455423.777777778"
      ]
     },
     "execution_count": 120,
     "metadata": {},
     "output_type": "execute_result"
    }
   ],
   "source": [
    "#type your code here\n",
    "portugal_value_series = df.loc[(df['Series Name'] == 'Population, total') & \n",
    "       (df['Country Name'] == 'Portugal'), 'value']\n",
    "mean_gdp_port = portugal_value_series.mean()\n",
    "mean_gdp_port"
   ]
  },
  {
   "cell_type": "code",
   "execution_count": 119,
   "metadata": {},
   "outputs": [
    {
     "data": {
      "text/plain": [
       "15827   -165525.777778\n",
       "15828    -92701.777778\n",
       "15829    -35792.777778\n",
       "15830      3397.222222\n",
       "15831     28437.222222\n",
       "15832     47906.222222\n",
       "15833     66864.222222\n",
       "15834     87540.222222\n",
       "15835    102753.222222\n",
       "15836    112823.222222\n",
       "15837    117676.222222\n",
       "15838    102136.222222\n",
       "15839     59420.222222\n",
       "15840      1871.222222\n",
       "15841    -54361.777778\n",
       "15842    -97347.777778\n",
       "15843   -129971.777778\n",
       "15844   -155123.777778\n",
       "15845              NaN\n",
       "Name: value, dtype: float64"
      ]
     },
     "execution_count": 119,
     "metadata": {},
     "output_type": "execute_result"
    }
   ],
   "source": [
    "portugal_value_series.map(lambda x: x-mean_gdp_port)"
   ]
  },
  {
   "cell_type": "markdown",
   "metadata": {
    "hideCode": false,
    "hidePrompt": false
   },
   "source": [
    "The function you pass to `map()` expects a single value from the `Series`, and return a transformed version of that value (in our example that same value minus the column mean). `map()` returns a new `Series` where all the values have been transformed by your function.\n",
    "<br/>\n",
    "<hr>\n",
    "\n",
    "#### 5.2.1 Quick review about Python's lambda expression\n",
    "\n",
    "<hr>\n",
    "<br/>\n",
    "Lambda expressions allow us to create \"anonymous\" functions. This basically means we can quickly make ad-hoc functions without needing to properly define a function using def. \n",
    "\n",
    "Function objects returned by running lambda expressions work exactly the same as those created and assigned by `def`s. There is a key difference that makes lambda useful in specialized roles. Pandas library works very well with lambda expressions.\n",
    "\n",
    "**lambda's body is a single expression, not a block of statements.**\n",
    "\n",
    "+ The lambda's body is similar to what we would put in a `def` body return statement. We simply type the result as an expression instead of explicitly returning it. Because it is limited to an expression, a lambda is less general that a def. We can only squeeze design, to limit program nesting. lambda is designed for coding simple functions, and def to handle the larger tasks.\n",
    "\n",
    "\n",
    "\n",
    "\n",
    "Lets generate a simple function and compare it with its equivalent lambda expression."
   ]
  },
  {
   "cell_type": "code",
   "execution_count": 121,
   "metadata": {
    "hideCode": false,
    "hidePrompt": false
   },
   "outputs": [],
   "source": [
    "#type your code here\n",
    "def square(num:int):\n",
    "    return num**2"
   ]
  },
  {
   "cell_type": "code",
   "execution_count": 122,
   "metadata": {
    "hideCode": false,
    "hidePrompt": false
   },
   "outputs": [
    {
     "data": {
      "text/plain": [
       "16"
      ]
     },
     "execution_count": 122,
     "metadata": {},
     "output_type": "execute_result"
    }
   ],
   "source": [
    "square(4)"
   ]
  },
  {
   "cell_type": "markdown",
   "metadata": {
    "hideCode": false,
    "hidePrompt": false
   },
   "source": [
    "This is the from that a lambda expression trying to replicate the function above would take."
   ]
  },
  {
   "cell_type": "markdown",
   "metadata": {
    "hideCode": false,
    "hidePrompt": false
   },
   "source": [
    "Note that the output is a function (in our data set this function is passed to `map()` method so it can be applied to each of the elements of the column). So we need to assing it to a variable to then use it in the desired way"
   ]
  },
  {
   "cell_type": "code",
   "execution_count": 127,
   "metadata": {
    "hideCode": false,
    "hidePrompt": false
   },
   "outputs": [],
   "source": [
    "#type your code here\n",
    "lambda_square = lambda x: x**2"
   ]
  },
  {
   "cell_type": "code",
   "execution_count": 128,
   "metadata": {
    "hideCode": false,
    "hidePrompt": false
   },
   "outputs": [
    {
     "data": {
      "text/plain": [
       "16"
      ]
     },
     "execution_count": 128,
     "metadata": {},
     "output_type": "execute_result"
    }
   ],
   "source": [
    "lambda_square(4)"
   ]
  },
  {
   "cell_type": "markdown",
   "metadata": {
    "hideCode": false,
    "hidePrompt": false
   },
   "source": [
    "Now, lets generate a lambda function that will allow us to have a quick overview of any dataset that we may encounter."
   ]
  },
  {
   "cell_type": "code",
   "execution_count": 129,
   "metadata": {
    "hideCode": false,
    "hidePrompt": false
   },
   "outputs": [],
   "source": [
    "#type your code here\n",
    "def rstr(df):\n",
    "    print('Shape: {}\\n Cols unique values:{}\\n'.format(df.shape, df.apply(lambda x: [x.unique()])))"
   ]
  },
  {
   "cell_type": "code",
   "execution_count": 130,
   "metadata": {},
   "outputs": [
    {
     "name": "stdout",
     "output_type": "stream",
     "text": [
      "Shape: (59299, 7)\n",
      " Cols unique values:                                        Country Name  \\\n",
      "0  [World, United States, United Kingdom, Turkey,...   \n",
      "\n",
      "                                        Country Code  \\\n",
      "0  [WLD, USA, GBR, TUR, SWE, SSF, ESP, SAS, SVN, ...   \n",
      "\n",
      "                                         Series Name  \\\n",
      "0  [Access to electricity (% of population), Age ...   \n",
      "\n",
      "                                                Time  \\\n",
      "0  [2000, 2001, 2002, 2003, 2004, 2005, 2006, 200...   \n",
      "\n",
      "                                               value  \\\n",
      "0  [77.7230945381671, 77.2877546448649, 78.819270...   \n",
      "\n",
      "                                           Continent  \\\n",
      "0  [World, America, Europe, Middle East, Africa, ...   \n",
      "\n",
      "                                       reverse_index  \n",
      "0  [59299, 59298, 59297, 59296, 59295, 59294, 592...  \n",
      "\n"
     ]
    }
   ],
   "source": [
    "rstr(df)"
   ]
  },
  {
   "cell_type": "markdown",
   "metadata": {
    "hideCode": false,
    "hidePrompt": false
   },
   "source": [
    "<br/>\n",
    "<hr>\n",
    "<hr>\n",
    "<br/>\n",
    "\n",
    "`apply()` is the equivalent mehtod if we want to transform a whole `DataFrame` by calling a custom method on each row. For example, lets define the mean_gdp function and then use it to transform our data."
   ]
  },
  {
   "cell_type": "code",
   "execution_count": 131,
   "metadata": {
    "hideCode": false,
    "hidePrompt": false
   },
   "outputs": [],
   "source": [
    "#type your code here\n",
    "def remean_gdp(row):\n",
    "    row.value = row.value - mean_gdp_port\n",
    "    return row"
   ]
  },
  {
   "cell_type": "code",
   "execution_count": 134,
   "metadata": {
    "hideCode": false,
    "hidePrompt": false
   },
   "outputs": [
    {
     "ename": "TypeError",
     "evalue": "remean_gdp() missing 1 required positional argument: 'row'",
     "output_type": "error",
     "traceback": [
      "\u001b[1;31m---------------------------------------------------------------------------\u001b[0m",
      "\u001b[1;31mTypeError\u001b[0m                                 Traceback (most recent call last)",
      "\u001b[1;32m<ipython-input-134-d03b9fcbcff4>\u001b[0m in \u001b[0;36m<module>\u001b[1;34m\u001b[0m\n\u001b[0;32m      2\u001b[0m port_value_series = df.loc[(df['Series Name'] == 'Population, total') & \n\u001b[0;32m      3\u001b[0m        (df['Country Name'] == 'Portugal')]\n\u001b[1;32m----> 4\u001b[1;33m \u001b[0mport_value_series\u001b[0m\u001b[1;33m[\u001b[0m\u001b[0mremean_gdp\u001b[0m\u001b[1;33m(\u001b[0m\u001b[1;33m)\u001b[0m\u001b[1;33m]\u001b[0m\u001b[1;33m\u001b[0m\u001b[1;33m\u001b[0m\u001b[0m\n\u001b[0m",
      "\u001b[1;31mTypeError\u001b[0m: remean_gdp() missing 1 required positional argument: 'row'"
     ]
    }
   ],
   "source": [
    "#type your code here\n",
    "port_value_series = df.loc[(df['Series Name'] == 'Population, total') & \n",
    "       (df['Country Name'] == 'Portugal')]\n",
    "port_value_series[remean_gdp()]"
   ]
  },
  {
   "cell_type": "markdown",
   "metadata": {
    "hideCode": false,
    "hidePrompt": false
   },
   "source": [
    "If we called the `port_gdp_data.apply()` with `axis='index'`, then instead of passing a function to transform each row, we would need to give a function to transform each **column** .\n",
    "\n",
    "Note that both `map()`and `apply()`methods return a new transformed `Series`and `DataFrame`respectively. They do not modify the original dataset they uses as input. If we look at the original `port_gdp_data` we can see that it still has its original `value`."
   ]
  },
  {
   "cell_type": "code",
   "execution_count": null,
   "metadata": {
    "hideCode": false,
    "hidePrompt": false
   },
   "outputs": [],
   "source": [
    "#type your code here"
   ]
  },
  {
   "cell_type": "markdown",
   "metadata": {
    "hideCode": false,
    "hidePrompt": false
   },
   "source": [
    "<br/>\n",
    "\n",
    "#### 5.2.2 **Built in mapping operators in Pandas**\n",
    "\n",
    "<br/>\n",
    "For the most common operators we need not to use explicitly the `map()` method. For example, here is a faster way of remeaning our `value` column."
   ]
  },
  {
   "cell_type": "code",
   "execution_count": null,
   "metadata": {
    "hideCode": false,
    "hidePrompt": false
   },
   "outputs": [],
   "source": [
    "#type your code here"
   ]
  },
  {
   "cell_type": "markdown",
   "metadata": {
    "hideCode": false,
    "hidePrompt": false
   },
   "source": [
    "Note that in the code above we are performing an operation between a lot of vales on the left-hand side (actually everyting in the `Series`) and a single value on the right-hand side (the mean value $230,698,913,940.09$). Pandas looks at this expression and figures out that we must mean to substract that value from every value in the column.\n",
    "\n",
    "Pandas will also understand what to do if we perform these operations between `Series` of equal length. For example, an easy way to combine the continent and country name of our data is by doing the following:"
   ]
  },
  {
   "cell_type": "code",
   "execution_count": null,
   "metadata": {
    "hideCode": false,
    "hidePrompt": false
   },
   "outputs": [],
   "source": [
    "#type your code here"
   ]
  },
  {
   "cell_type": "markdown",
   "metadata": {
    "hideCode": false,
    "hidePrompt": false
   },
   "source": [
    "In the cell above I introduced the method `.astype()` to transform `Time` from an integer column to a string column. \n",
    "\n",
    "This needs to be done because Pandas can only concatenate a string with other string or equivalently can only add a number with other number. Both operations are performed with the same `+` operator.\n",
    "\n",
    "<div class=\"alert alert-block alert-info\">\n",
    "    <b>Note:</b>  Performing this operators rather than using <code>map()</code> or <code>apply()</code> methods is faster because they use speed ups built into Pandas. Actualy, all of the standard Python operators (greater, lesser or equal than) work in this manner.\n",
    "</div>\n",
    "\n",
    "However, they are not as flexible as `map()` or `apply()`, which can do more advanced things, like applying conditional logic, which cannot be done with addition and substraction alone."
   ]
  },
  {
   "cell_type": "markdown",
   "metadata": {
    "hideCode": false,
    "hidePrompt": false
   },
   "source": [
    "<br/>\n",
    "\n",
    "## 6. [Grouping and Sorting](#V)\n",
    "<a id=\"V\"></a>\n",
    "<br/>"
   ]
  },
  {
   "cell_type": "markdown",
   "metadata": {
    "hideCode": false,
    "hidePrompt": false
   },
   "source": [
    "### 6.1 [Grouping](#V.I)\n",
    "<a id=\"V.I\"></a>\n",
    "<br/>\n",
    "\n",
    "Most data operations are done on groups defined by variables for creating them pandas `DataFrame`s have the method `groupby()`. The way it generally works is as follows:\n",
    "\n",
    "1. Define the *groups* based on a set of columns in your data\n",
    "2. Summarize the information of other columns at the grouped level\n",
    "\n",
    "For the second step the method you will need to use is `agg()`, this method will allow you to summarize a set of columns each of them with a specific summary function. The structure of the command is presented in the image below:\n",
    "<br/>\n",
    "\n",
    "<p align=\"center\">\n",
    "  <img width=\"820\" height=\"500\" src=\"https://shanelynnwebsite-mid9n9g1q9y8tt.netdna-ssl.com/wp-content/uploads/2019/10/pandas-python-group-by-named-aggregation-update.jpg\">\n",
    "</p>\n",
    "\n",
    "<br/>\n",
    "\n",
    "Now, let's make a simple table with summary statistcis of our data\n"
   ]
  },
  {
   "cell_type": "code",
   "execution_count": null,
   "metadata": {
    "hideCode": false,
    "hidePrompt": false
   },
   "outputs": [],
   "source": [
    "#type your code here"
   ]
  },
  {
   "cell_type": "markdown",
   "metadata": {
    "hideCode": false,
    "hidePrompt": false
   },
   "source": [
    "There are aggregation functions already predifined by pandas below you can see a **non-exhaustive** list of them:\n",
    "\n",
    "\n",
    "| Function | Description  |\n",
    "| :-----: | :-----: |\n",
    "| count | Number of non-null observations |\n",
    "| sum | Sum of values |\n",
    "| mean | Mean of values |\n",
    "| mad | Mean absolute deviation |\n",
    "| median | Arithmetic median of values |\n",
    "| min | Minimum |\n",
    "| max | Maximum |\n",
    "| mode | Mode |\n",
    "| abs | Absolute Value |\n",
    "| prod | Product of values |\n",
    "| var | Unbiased variance |\n",
    "| sem | Unbiased standard error of the mean |\n",
    "| skew | Unbiased skewness (3rd moment) |\n",
    "| kurt | Unbiased kurtosis (4th moment) |\n",
    "| quantile | Sample quantile (value at %) |\n",
    "| cumsum | Cumulative sum |\n",
    "| cumprod | Sample quantile (value at %) |\n",
    "| quantile | Cumulative product |\n",
    "| cummax | Cumulative maximum |\n",
    "| cummin | Cumulative minimum |\n",
    "\n",
    "Note that it is also possible to create your own aggregation functions. However, the need for custom functions is minimal unless you have very specific requirements. The full range of basic statistics that are quickly calculable and built into the base Pandas package can be found [here](https://pandas.pydata.org/pandas-docs/stable/getting_started/basics.html)\n",
    "\n",
    "<br/>"
   ]
  },
  {
   "cell_type": "markdown",
   "metadata": {
    "hideCode": false,
    "hidePrompt": false
   },
   "source": [
    "### 6.2 [Sorting](#V.II)\n",
    "<a id=\"V.II\"></a>\n",
    "<br/>\n",
    "\n",
    "Now, imagine you need to sort in a descending way the results shown above. By using the `DataFrame` method `sort_values()` and selecting the parameter `ascending=False` this process can be easily performed."
   ]
  },
  {
   "cell_type": "code",
   "execution_count": null,
   "metadata": {
    "hideCode": false,
    "hidePrompt": false
   },
   "outputs": [],
   "source": [
    "#type your code here"
   ]
  },
  {
   "cell_type": "markdown",
   "metadata": {
    "hideCode": false,
    "hidePrompt": false
   },
   "source": [
    "<br/>\n",
    "\n",
    "## 7. [Data Types and Missing Values](#IV)\n",
    "<a id=\"IV\"></a>\n",
    "<br/>"
   ]
  },
  {
   "cell_type": "markdown",
   "metadata": {
    "hideCode": false,
    "hidePrompt": false
   },
   "source": [
    "### 7.1 [Data Types](#IV.I)\n",
    "<a id=\"IV.I\"></a>\n",
    "<br/>\n",
    "\n",
    "At the end of the prior section we introduced an operator to modify the type a specific column. The correct name of the type of a column in a `DataFrame` (or `Series`) is **dtype**.\n",
    "\n",
    "<br/>\n",
    "\n"
   ]
  },
  {
   "cell_type": "markdown",
   "metadata": {
    "hideCode": false,
    "hidePrompt": false
   },
   "source": [
    "#### 7.1.1 Specific Column\n",
    "<br/>\n",
    "\n",
    "So, you can use the `dtype` attribute of a `Series` to grab the type of a specific column. For instance, we can get the `dtype` of the `Time` column in our data."
   ]
  },
  {
   "cell_type": "code",
   "execution_count": null,
   "metadata": {
    "hideCode": false,
    "hidePrompt": false
   },
   "outputs": [],
   "source": [
    "#type your code here"
   ]
  },
  {
   "cell_type": "markdown",
   "metadata": {
    "hideCode": false,
    "hidePrompt": false
   },
   "source": [
    "<br/>\n",
    "\n",
    "#### 7.1.2 Every column in the dataset\n",
    "<br/>\n",
    "Alternatively, the `dtypes` attribute of a `DataFrame` returns the `dtype`of *every* column."
   ]
  },
  {
   "cell_type": "code",
   "execution_count": null,
   "metadata": {
    "hideCode": false,
    "hidePrompt": false
   },
   "outputs": [],
   "source": [
    "#type your code here"
   ]
  },
  {
   "cell_type": "markdown",
   "metadata": {
    "hideCode": false,
    "hidePrompt": false
   },
   "source": [
    "Data types tell us something about how pandas is storing the data internally. For example, `float64` means that it is using a 64-bit floating point number, whereas `int64` means a similarly sized integer instead.\n",
    "\n",
    "One peculiarity to keep in mind is that columns consisting entirely of strings do not get their own type, instead they are given the `object` type.\n",
    "\n",
    "As we presented before, function `.astype()` makes possible to convert a column of one type into another wherever such a convertion makes sense. \n",
    "\n",
    "A `DataFrame` or `Series` index has its own `dtype` too."
   ]
  },
  {
   "cell_type": "code",
   "execution_count": null,
   "metadata": {
    "hideCode": false,
    "hidePrompt": false
   },
   "outputs": [],
   "source": [
    "#type your code here"
   ]
  },
  {
   "cell_type": "markdown",
   "metadata": {
    "hideCode": false,
    "hidePrompt": false
   },
   "source": [
    "As a final note to this section, let's remark that Pandas also supports more exoctic data types. For example, categorical data and timeseries data are also allowed.\n",
    "\n",
    "### 7.2 [Missing data](#IV.II)\n",
    "<a id=\"IV.II\"></a>\n",
    "<br/>\n",
    "Entries with missing values are given the value NaN, short for \"Not a Number\". For technical reasons these `NaN` values are always of the `float64` dtype.\n",
    "<br/>\n",
    "\n",
    "#### 7.2.1 Selecting missing rows data\n",
    "<br/>\n",
    "Pandas provides some methods specific to missing data. To select `NaN` entries you can use `pd.isnull()` (or its companion `pd.notnull()`). For example, lets output all the rows of our dataset that has `value` column with missing values."
   ]
  },
  {
   "cell_type": "code",
   "execution_count": null,
   "metadata": {
    "hideCode": false,
    "hidePrompt": false
   },
   "outputs": [],
   "source": [
    "#type your code here"
   ]
  },
  {
   "cell_type": "markdown",
   "metadata": {
    "hideCode": false,
    "hidePrompt": false
   },
   "source": [
    "Replacing missing values is a common operation. Pandas provides a handy method for this problem: `fillna()`. `fillna()` provides a few different strategies for mitigating such data. For example, we can simply replace each `NaN`with an `\"Unknown\"`. "
   ]
  },
  {
   "cell_type": "code",
   "execution_count": null,
   "metadata": {
    "hideCode": false,
    "hidePrompt": false
   },
   "outputs": [],
   "source": [
    "#type your code here"
   ]
  },
  {
   "cell_type": "markdown",
   "metadata": {
    "hideCode": false,
    "hidePrompt": false
   },
   "source": [
    "Alternatively, we may have a none-null value that we would like to replace. For example, lets `replace()` the string value of `Continent` column from 'World' to 0, 'America' to 1, 'Europe' to 2, 'Middle East' to 3, 'Africa' to 4, 'Asia' to 5 and 'Oceania' to 6"
   ]
  },
  {
   "cell_type": "code",
   "execution_count": null,
   "metadata": {
    "hideCode": false,
    "hidePrompt": false
   },
   "outputs": [],
   "source": [
    "#type your code here"
   ]
  },
  {
   "cell_type": "markdown",
   "metadata": {
    "hideCode": false,
    "hidePrompt": false
   },
   "source": [
    "<br/>\n",
    "\n",
    "## 8. [Renaming and Combining](#IIV)\n",
    "<a id=\"IIV\"></a>\n",
    "<br/>\n",
    "Data comes often to us with column names, index names or other naming conventions that we are not satisfied with. In that case, we will learn how to use pandas functions to change the names of the entries we need to.\n",
    "\n",
    "We will also explore three methods to combine data from multiple `DataFame` and/or `Series`.\n",
    "<br/>\n",
    "\n",
    "### 8.1 [Renaming](#IIV.I)\n",
    "<a id=\"IIV.I\"></a>\n",
    "<br/>\n",
    "The first function to introduce here is `rename()`, which allows you to change index names and/or column names. For example, to change the `value` column in our dataset to `Series Value`, we would do:\n",
    "<br/>"
   ]
  },
  {
   "cell_type": "code",
   "execution_count": null,
   "metadata": {
    "hideCode": false,
    "hidePrompt": false
   },
   "outputs": [],
   "source": [
    "#type your code here"
   ]
  },
  {
   "cell_type": "markdown",
   "metadata": {
    "hideCode": false,
    "hidePrompt": false
   },
   "source": [
    "`rename()` supports a variety of input formats, but usually a Python dictionary is the most convenient. For **modifying a set of columns** we leverage two core Python operators: `dict()` and `zip()`. The first one simply produces a dictionary (is equivalent to `{ }`), the second one is the `zip()` function that *paste* one on one each of the elements of two list."
   ]
  },
  {
   "cell_type": "code",
   "execution_count": null,
   "metadata": {
    "hideCode": false,
    "hidePrompt": false
   },
   "outputs": [],
   "source": [
    "#type your code here"
   ]
  },
  {
   "cell_type": "markdown",
   "metadata": {
    "hideCode": false,
    "hidePrompt": false
   },
   "source": [
    "`rename()` lets you rename *index* or *column* values by specifying `index` or `column` keyword parameter, respectively. Here is an example using it to rename some elements of the index. "
   ]
  },
  {
   "cell_type": "code",
   "execution_count": null,
   "metadata": {
    "hideCode": false,
    "hidePrompt": false
   },
   "outputs": [],
   "source": [
    "#type your code here"
   ]
  },
  {
   "cell_type": "markdown",
   "metadata": {
    "hideCode": false,
    "hidePrompt": false
   },
   "source": [
    "It is very common to rename columns, but rename index values is very rarely. For doing so it is usually more convenient to use the `set_index()` method.\n",
    "<br/>\n",
    "\n",
    "#### 8.1.1 Renaming axis\n",
    "<br/>\n",
    "Both rows and columns have their own name attribute. So, additionaly to renaming values of each axis  `rename_axis()` method may be used to change these name attribute (naming the hole rows or the hole columns). For example:"
   ]
  },
  {
   "cell_type": "code",
   "execution_count": null,
   "metadata": {
    "hideCode": false,
    "hidePrompt": false
   },
   "outputs": [],
   "source": [
    "#type your code here"
   ]
  },
  {
   "cell_type": "markdown",
   "metadata": {
    "hideCode": false,
    "hidePrompt": false
   },
   "source": [
    "<br/>\n",
    "\n",
    "### 8.2 [Combining](#IIV.II)\n",
    "<a id=\"IIV.II\"></a>\n",
    "<br/>\n",
    "\n",
    "When working on a dataset, we will sometimes need to combine different `DataFrames` and/or `Series` in *non-trivial* ways. Pandas has three core methods for doing this. Ranked on increasing complexity, these methods are `concat()`, `join()`, and `merge()`.\n",
    "\n",
    "As its name says, `concat()` will concatenate two `DataFrames` together along an axis. This method is very useful when working with data in different `DataFrames` or `Series` objects but having the same fields (columns) . \n",
    "\n",
    "For example imagine that we need to create a report with a subset of the available goverment data from Portugal of the period. The indicators that we need to present are the following:\n",
    "\n",
    "+ GDP (constant 2010 US\\$)\n",
    "+ Expense (\\% of GDP)\n",
    "+ Government expenditure on education, total (\\% of GDP)\n",
    "+ Domestic general government health expenditure (\\% of GDP)\n",
    "\n",
    "For this we will need to create a subset of the original dataframe with all the series available for Portugal. With it we will need to:\n",
    "\n",
    "+ select all the rows where `Series Name` equals each of the desired indicators\n",
    "+ rename `Series Name` to fit the indicator description\n",
    "+ use the method mentioned above"
   ]
  },
  {
   "cell_type": "code",
   "execution_count": null,
   "metadata": {
    "hideCode": false,
    "hidePrompt": false
   },
   "outputs": [],
   "source": [
    "#First of all let's select only entries reported by Portugal\n",
    "#type your code here"
   ]
  },
  {
   "cell_type": "code",
   "execution_count": null,
   "metadata": {
    "hideCode": false,
    "hidePrompt": false
   },
   "outputs": [],
   "source": [
    "#Then let's set the conditions to select the data\n",
    "#type your code here"
   ]
  },
  {
   "cell_type": "code",
   "execution_count": null,
   "metadata": {
    "hideCode": false,
    "hidePrompt": false
   },
   "outputs": [],
   "source": [
    "#Then select and rename each series\n",
    "#type your code here"
   ]
  },
  {
   "cell_type": "code",
   "execution_count": null,
   "metadata": {
    "hideCode": false,
    "hidePrompt": false
   },
   "outputs": [],
   "source": [
    "#Finally let's concatenate all together\n",
    "#and put back together the column names since concate operator loss them\n",
    "#type your code here"
   ]
  },
  {
   "cell_type": "markdown",
   "metadata": {
    "hideCode": false,
    "hidePrompt": false
   },
   "source": [
    "The middlemost complex combiner is `join()`. It works for combining different `DataFrame` objects which have a column (or index) in common. For a clear explanation of its usage and its parameters, let's generate two new `DataFrames` each of them with two columns named: `Key` and `Values`.  \n",
    "\n",
    "The first one name it `right` and fill each column with the following values:\n",
    "\n",
    "+ `Key`: 2000,2001,2002,2003\n",
    "+ `Values`:12,13,12,13 \n",
    "\n",
    "The second one name it `left` and fill each column with the following values:\n",
    "\n",
    "+ `Key`: 2000,2001,2003\n",
    "+ `Values`:15,16,17"
   ]
  },
  {
   "cell_type": "code",
   "execution_count": null,
   "metadata": {
    "hideCode": false,
    "hidePrompt": false
   },
   "outputs": [],
   "source": [
    "#type your code here"
   ]
  },
  {
   "cell_type": "markdown",
   "metadata": {
    "hideCode": false,
    "hidePrompt": false
   },
   "source": [
    "Now, lets *join* this to datasets using operator `.join()`. "
   ]
  },
  {
   "cell_type": "code",
   "execution_count": null,
   "metadata": {
    "hideCode": false,
    "hidePrompt": false
   },
   "outputs": [],
   "source": [
    "#type your code here"
   ]
  },
  {
   "cell_type": "markdown",
   "metadata": {
    "hideCode": false,
    "hidePrompt": false
   },
   "source": [
    "Note that the `on` parameter allows us to to join the datasets using the `Key` column, however `DataFrame.join()` **always uses the second one index** so that's why in the code above we use the method `set_index('Key')` on the second `DataFrame` (in the example is called `left`).\n",
    "\n",
    "Back to our example database, imagine that now we have a report with another set of indicators:\n",
    "\n",
    "+ Final consumption expenditure (\\% of GDP): (formerly total consumption) is the sum of household final consumption expenditure (private consumption) and general government final consumption expenditure (general government consumption)\n",
    "+ Exports of goods and services (\\% of GDP)\n",
    "\n",
    "And we want join them together in a single dataset.\n"
   ]
  },
  {
   "cell_type": "code",
   "execution_count": null,
   "metadata": {
    "hideCode": false,
    "hidePrompt": false
   },
   "outputs": [],
   "source": [
    "#Let's set the conditions to select the data\n",
    "#type your code here'\n",
    "\n",
    "#Then select and rename each series\n",
    "#type your code here"
   ]
  },
  {
   "cell_type": "code",
   "execution_count": null,
   "metadata": {
    "hideCode": false,
    "hidePrompt": false
   },
   "outputs": [],
   "source": [
    "#type your code here"
   ]
  },
  {
   "cell_type": "markdown",
   "metadata": {
    "hideCode": false,
    "hidePrompt": false
   },
   "source": [
    "Note that the new dataset has exactly the same amount of rows (or observations) that our first dataset. `join()` method has set by default the value of the parameter `how` to \"left\". So, the code above is *pasting*  two additional columns using the values of `Time` (set as index in both datasets) as keys for this process."
   ]
  },
  {
   "cell_type": "markdown",
   "metadata": {
    "hideCode": false,
    "hidePrompt": false
   },
   "source": [
    "The last combining operator is `merge()`, it is said to be more complicated simply because it has more parameters to specify. This allows more flexibility when dealing with difficult *types* of combinations. \n",
    "\n",
    "Differently from `join()` it supports any column or index as *key* for the combination to perform. It also has set as default `how` value \"inner\" (so by default it would just return rows in which key values belong to the intersection of both dataset). \n",
    "\n",
    "Let's repeat what we have done so far using this operator."
   ]
  },
  {
   "cell_type": "code",
   "execution_count": null,
   "metadata": {
    "hideCode": false,
    "hidePrompt": false
   },
   "outputs": [],
   "source": [
    "#type your code here"
   ]
  },
  {
   "cell_type": "code",
   "execution_count": null,
   "metadata": {
    "hideCode": false,
    "hidePrompt": false
   },
   "outputs": [],
   "source": [
    "#type your code here\n"
   ]
  },
  {
   "cell_type": "markdown",
   "metadata": {
    "hideCode": false,
    "hidePrompt": false
   },
   "source": [
    "Finally, it is important to remark that almost everything that can be done with `merge()` can also be done with `join()`. However, `merge()` gives you more control on how pandas is  internally procesing your data. In particular, the **optional parameter** `validate` helps you check how pandas is processing internally the key values. In our example, I specified \"1:1\" that means \"one to one\" because it makes pandas to check if merge keys are unique on the both dataset.\n",
    "\n",
    "Remember that you can always *ask Python* for help when you feel confused about the parameters or its usage of both `merge()` and `join()` (or any other) operator."
   ]
  }
 ],
 "metadata": {
  "hide_code_all_hidden": false,
  "kernelspec": {
   "display_name": "Python 3",
   "language": "python",
   "name": "python3"
  },
  "language_info": {
   "codemirror_mode": {
    "name": "ipython",
    "version": 3
   },
   "file_extension": ".py",
   "mimetype": "text/x-python",
   "name": "python",
   "nbconvert_exporter": "python",
   "pygments_lexer": "ipython3",
   "version": "3.8.5"
  }
 },
 "nbformat": 4,
 "nbformat_minor": 4
}
